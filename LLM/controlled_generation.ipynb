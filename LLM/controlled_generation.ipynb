{
 "cells": [
  {
   "cell_type": "code",
   "execution_count": 1,
   "id": "5ae0af5c",
   "metadata": {},
   "outputs": [],
   "source": [
    "import torch\n",
    "tokenpath = \"nfs/custom_tokenizer_mental.tokenizer.json\""
   ]
  },
  {
   "cell_type": "code",
   "execution_count": null,
   "id": "81c0501a",
   "metadata": {},
   "outputs": [],
   "source": [
    "from tokenizers import Tokenizer, models, trainers, pre_tokenizers\n",
    "\n",
    "bpetokenizer = Tokenizer(models.BPE())\n",
    "bpetokenizer.pre_tokenizer = pre_tokenizers.Whitespace()\n",
    "\n",
    "files = [\"nfs/mental_health_data.dev.txt\"]  # your 1.5 M-word text file\n",
    "\n",
    "# 4. Train with a small vocab.\n",
    "bpetrainer = trainers.BpeTrainer(\n",
    "    vocab_size=16000,\n",
    "    min_frequency=2,\n",
    "    show_progress=True,\n",
    "    special_tokens=[\"<unk>\", \"<pad>\", \"<bos>\", \"<eos>\"]\n",
    ")\n",
    "\n",
    "bpetokenizer.train(files, bpetrainer)\n",
    "bpetokenizer.save(tokenpath)\n",
    "\n",
    "\n",
    "# Already done the above steps, now load the tokenizer"
   ]
  },
  {
   "cell_type": "code",
   "execution_count": 4,
   "id": "dde96560",
   "metadata": {},
   "outputs": [
    {
     "data": {
      "text/plain": [
       "8000"
      ]
     },
     "execution_count": 4,
     "metadata": {},
     "output_type": "execute_result"
    }
   ],
   "source": [
    "from transformers import PreTrainedTokenizerFast\n",
    "tok = PreTrainedTokenizerFast(tokenizer_file=tokenpath)\n",
    "vocab_size = tok.vocab_size\n",
    "vocab_size"
   ]
  }
 ],
 "metadata": {
  "kernelspec": {
   "display_name": "venv",
   "language": "python",
   "name": "python3"
  },
  "language_info": {
   "codemirror_mode": {
    "name": "ipython",
    "version": 3
   },
   "file_extension": ".py",
   "mimetype": "text/x-python",
   "name": "python",
   "nbconvert_exporter": "python",
   "pygments_lexer": "ipython3",
   "version": "3.12.9"
  }
 },
 "nbformat": 4,
 "nbformat_minor": 5
}
