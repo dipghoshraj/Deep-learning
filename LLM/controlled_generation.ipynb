{
 "cells": [
  {
   "cell_type": "code",
   "execution_count": 1,
   "id": "5ae0af5c",
   "metadata": {},
   "outputs": [],
   "source": [
    "import torch\n",
    "tokenpath = \"nfs/custom_tokenizer_mental.tokenizer.json\""
   ]
  },
  {
   "cell_type": "code",
   "execution_count": 2,
   "id": "81c0501a",
   "metadata": {},
   "outputs": [],
   "source": [
    "# from tokenizers import Tokenizer, models, trainers, pre_tokenizers\n",
    "\n",
    "# bpetokenizer = Tokenizer(models.BPE())\n",
    "# bpetokenizer.pre_tokenizer = pre_tokenizers.Whitespace()\n",
    "\n",
    "# files = [\"nfs/mental_health_data.dev.txt\"]  # your 1.5 M-word text file\n",
    "\n",
    "# # 4. Train with a small vocab.\n",
    "# bpetrainer = trainers.BpeTrainer(\n",
    "#     vocab_size=16000,\n",
    "#     min_frequency=2,\n",
    "#     show_progress=True,\n",
    "#     special_tokens=[\"<unk>\", \"<pad>\", \"<bos>\", \"<eos>\"]\n",
    "# )\n",
    "\n",
    "# bpetokenizer.train(files, bpetrainer)\n",
    "# bpetokenizer.save(tokenpath)\n",
    "\n",
    "\n",
    "# Already done the above steps, now load the tokenizer"
   ]
  },
  {
   "cell_type": "code",
   "execution_count": 3,
   "id": "dde96560",
   "metadata": {},
   "outputs": [
    {
     "name": "stderr",
     "output_type": "stream",
     "text": [
      "d:\\tech-garage\\Deep-learning\\venv\\Lib\\site-packages\\tqdm\\auto.py:21: TqdmWarning: IProgress not found. Please update jupyter and ipywidgets. See https://ipywidgets.readthedocs.io/en/stable/user_install.html\n",
      "  from .autonotebook import tqdm as notebook_tqdm\n"
     ]
    },
    {
     "data": {
      "text/plain": [
       "8000"
      ]
     },
     "execution_count": 3,
     "metadata": {},
     "output_type": "execute_result"
    }
   ],
   "source": [
    "from transformers import PreTrainedTokenizerFast\n",
    "tok = PreTrainedTokenizerFast(tokenizer_file=tokenpath)\n",
    "vocab_size = tok.vocab_size\n",
    "vocab_size"
   ]
  },
  {
   "cell_type": "code",
   "execution_count": 4,
   "id": "10278d2e",
   "metadata": {},
   "outputs": [],
   "source": [
    "device = \"cpu\"\n",
    "if torch.cuda.is_available():\n",
    "    device = \"cuda\""
   ]
  },
  {
   "cell_type": "code",
   "execution_count": 5,
   "id": "8a67a5a4",
   "metadata": {},
   "outputs": [
    {
     "name": "stderr",
     "output_type": "stream",
     "text": [
      "Reading lines: 1802358it [00:01, 1066211.13it/s]\n"
     ]
    }
   ],
   "source": [
    "from tqdm import tqdm\n",
    "\n",
    "with open(\"nfs/mental_health_data.dev.txt\", 'r', encoding='utf-8') as f:\n",
    "    lines = [line.strip() for line in tqdm(f, desc=\"Reading lines\") if line.strip()]\n"
   ]
  },
  {
   "cell_type": "code",
   "execution_count": 6,
   "id": "dccaf84c",
   "metadata": {},
   "outputs": [
    {
     "name": "stderr",
     "output_type": "stream",
     "text": [
      "Batch tokenizing: 100%|██████████| 91/91 [00:53<00:00,  1.70it/s]\n"
     ]
    }
   ],
   "source": [
    "batch_size = 10000\n",
    "encoded = []\n",
    "for i in tqdm(range(0, len(lines), batch_size), desc=\"Batch tokenizing\"):\n",
    "    batch = lines[i:i+batch_size]\n",
    "    enc = tok.batch_encode_plus(batch, add_special_tokens=False, return_attention_mask=False)['input_ids']\n",
    "    encoded.extend(enc)"
   ]
  },
  {
   "cell_type": "code",
   "execution_count": 7,
   "id": "aa72c07a",
   "metadata": {},
   "outputs": [],
   "source": [
    "import itertools\n",
    "all_token_ids = list(itertools.chain.from_iterable(encoded))\n"
   ]
  },
  {
   "cell_type": "code",
   "execution_count": 8,
   "id": "1687a23f",
   "metadata": {},
   "outputs": [
    {
     "name": "stdout",
     "output_type": "stream",
     "text": [
      "Memory used by 'data': 787653248 bytes\n",
      "Memory used: 769192.62 KB (751.16 MB)\n"
     ]
    }
   ],
   "source": [
    "data = torch.tensor(all_token_ids, dtype=torch.long, device=device)\n",
    "memory_bytes = data.element_size() * data.numel()\n",
    "print(f\"Memory used by 'data': {memory_bytes} bytes\")\n",
    "\n",
    "memory_kb = memory_bytes / 1024\n",
    "memory_mb = memory_kb / 1024\n",
    "print(f\"Memory used: {memory_kb:.2f} KB ({memory_mb:.2f} MB)\")\n"
   ]
  },
  {
   "cell_type": "code",
   "execution_count": 9,
   "id": "b58c414a",
   "metadata": {},
   "outputs": [],
   "source": [
    "train_batch_size = 16  # training batch size\n",
    "eval_batch_size = 8  # evaluation batch size\n",
    "context_length = 256  # number of tokens processed in a single batch\n",
    "train_split = 0.9  # percentage of data to use from total data for training\n",
    "\n",
    "d_model = 256\n",
    "n_heads = 2\n",
    "n_layers = 4"
   ]
  },
  {
   "cell_type": "code",
   "execution_count": 10,
   "id": "8c67633b",
   "metadata": {},
   "outputs": [],
   "source": [
    "n_data = len(data)\n",
    "train_data = data[:int(n_data * train_split)]\n",
    "eval_data = data[int(n_data * train_split):]"
   ]
  },
  {
   "cell_type": "code",
   "execution_count": 11,
   "id": "9eb6373e",
   "metadata": {},
   "outputs": [],
   "source": [
    "from data.data_builder import DataLoader\n",
    "train_loader = DataLoader(train_data, train_batch_size, context_length)\n",
    "eval_loader = DataLoader(eval_data, eval_batch_size, context_length)\n"
   ]
  },
  {
   "cell_type": "code",
   "execution_count": 12,
   "id": "b680c937",
   "metadata": {},
   "outputs": [
    {
     "name": "stdout",
     "output_type": "stream",
     "text": [
      "torch.Size([16, 256]) torch.Size([16, 256])\n"
     ]
    }
   ],
   "source": [
    "xb, yb = train_loader.get_batch()\n",
    "print(xb.shape, yb.shape)"
   ]
  },
  {
   "cell_type": "code",
   "execution_count": 13,
   "id": "82e3d492",
   "metadata": {},
   "outputs": [],
   "source": [
    "from model import GPT, DecoderGPT\n",
    "m = DecoderGPT(vocab_size=vocab_size, d_model=d_model, n_heads=n_heads, n_layers=n_layers, context_length=context_length, dropout=0.05).to(device)"
   ]
  },
  {
   "cell_type": "code",
   "execution_count": 14,
   "id": "b7d0b4d1",
   "metadata": {},
   "outputs": [
    {
     "name": "stdout",
     "output_type": "stream",
     "text": [
      "DecoderGPT(\n",
      "  (wte): Embedding(8000, 256)\n",
      "  (wpe): PositionalEncoding()\n",
      "  (blocks): ModuleList(\n",
      "    (0-3): 4 x ModelBlock(\n",
      "      (ln1): LayerNorm((256,), eps=1e-05, elementwise_affine=True)\n",
      "      (att): MultiHeadAttention(\n",
      "        (query): Linear(in_features=256, out_features=256, bias=True)\n",
      "        (key): Linear(in_features=256, out_features=256, bias=True)\n",
      "        (value): Linear(in_features=256, out_features=256, bias=True)\n",
      "        (fc_out): Linear(in_features=256, out_features=256, bias=True)\n",
      "        (dropout): Dropout(p=0.05, inplace=False)\n",
      "      )\n",
      "      (ln2): LayerNorm((256,), eps=1e-05, elementwise_affine=True)\n",
      "      (dropout): Dropout(p=0.05, inplace=False)\n",
      "      (fcn): Sequential(\n",
      "        (0): Linear(in_features=256, out_features=1024, bias=True)\n",
      "        (1): GELU(approximate='none')\n",
      "        (2): Linear(in_features=1024, out_features=256, bias=True)\n",
      "      )\n",
      "    )\n",
      "  )\n",
      "  (linear1): Linear(in_features=256, out_features=8000, bias=True)\n",
      ")\n",
      "Total Parameters: 5M\n"
     ]
    }
   ],
   "source": [
    "print(m)\n",
    "print(f\"Total Parameters: {round(sum(p.numel() for p in m.parameters() if p.requires_grad) / 1_000_000)}M\")"
   ]
  },
  {
   "cell_type": "code",
   "execution_count": 15,
   "id": "c89568ea",
   "metadata": {},
   "outputs": [],
   "source": [
    "lr = 1e-4\n",
    "optim = torch.optim.AdamW(m.parameters(), lr=lr, weight_decay=0.1)\n",
    "scheduler = torch.optim.lr_scheduler.CosineAnnealingLR(optim, T_max=3000, eta_min=lr*0.1)"
   ]
  },
  {
   "cell_type": "code",
   "execution_count": 21,
   "id": "6e824f0d",
   "metadata": {},
   "outputs": [
    {
     "name": "stderr",
     "output_type": "stream",
     "text": [
      "  0%|          | 1/1000 [00:00<06:51,  2.43it/s]"
     ]
    },
    {
     "name": "stdout",
     "output_type": "stream",
     "text": [
      "Epoch: 0\ttrain_loss: 5.3093\teval_loss: 5.1054\n"
     ]
    },
    {
     "name": "stderr",
     "output_type": "stream",
     "text": [
      "  5%|▌         | 54/1000 [00:03<00:52, 18.07it/s]"
     ]
    },
    {
     "name": "stdout",
     "output_type": "stream",
     "text": [
      "Epoch: 50\ttrain_loss: 5.8590\teval_loss: 5.1977\n"
     ]
    },
    {
     "name": "stderr",
     "output_type": "stream",
     "text": [
      " 10%|█         | 104/1000 [00:05<00:47, 18.79it/s]"
     ]
    },
    {
     "name": "stdout",
     "output_type": "stream",
     "text": [
      "Epoch: 100\ttrain_loss: 5.7979\teval_loss: 5.1600\n"
     ]
    },
    {
     "name": "stderr",
     "output_type": "stream",
     "text": [
      " 15%|█▌        | 154/1000 [00:08<00:45, 18.70it/s]"
     ]
    },
    {
     "name": "stdout",
     "output_type": "stream",
     "text": [
      "Epoch: 150\ttrain_loss: 6.1770\teval_loss: 6.0382\n"
     ]
    },
    {
     "name": "stderr",
     "output_type": "stream",
     "text": [
      " 20%|██        | 203/1000 [00:10<00:42, 18.77it/s]"
     ]
    },
    {
     "name": "stdout",
     "output_type": "stream",
     "text": [
      "Epoch: 200\ttrain_loss: 5.5329\teval_loss: 5.2601\n"
     ]
    },
    {
     "name": "stderr",
     "output_type": "stream",
     "text": [
      " 25%|██▌       | 251/1000 [00:13<00:56, 13.37it/s]"
     ]
    },
    {
     "name": "stdout",
     "output_type": "stream",
     "text": [
      "Epoch: 250\ttrain_loss: 5.3689\teval_loss: 4.9109\n"
     ]
    },
    {
     "name": "stderr",
     "output_type": "stream",
     "text": [
      " 30%|███       | 303/1000 [00:16<00:45, 15.35it/s]"
     ]
    },
    {
     "name": "stdout",
     "output_type": "stream",
     "text": [
      "Epoch: 300\ttrain_loss: 5.2832\teval_loss: 5.9796\n"
     ]
    },
    {
     "name": "stderr",
     "output_type": "stream",
     "text": [
      " 35%|███▌      | 353/1000 [00:20<00:42, 15.31it/s]"
     ]
    },
    {
     "name": "stdout",
     "output_type": "stream",
     "text": [
      "Epoch: 350\ttrain_loss: 5.4665\teval_loss: 5.1413\n"
     ]
    },
    {
     "name": "stderr",
     "output_type": "stream",
     "text": [
      " 40%|████      | 403/1000 [00:23<00:39, 15.22it/s]"
     ]
    },
    {
     "name": "stdout",
     "output_type": "stream",
     "text": [
      "Epoch: 400\ttrain_loss: 5.2532\teval_loss: 5.6049\n"
     ]
    },
    {
     "name": "stderr",
     "output_type": "stream",
     "text": [
      " 45%|████▌     | 453/1000 [00:26<00:35, 15.20it/s]"
     ]
    },
    {
     "name": "stdout",
     "output_type": "stream",
     "text": [
      "Epoch: 450\ttrain_loss: 5.7050\teval_loss: 4.9532\n"
     ]
    },
    {
     "name": "stderr",
     "output_type": "stream",
     "text": [
      " 50%|█████     | 503/1000 [00:30<00:38, 13.06it/s]"
     ]
    },
    {
     "name": "stdout",
     "output_type": "stream",
     "text": [
      "Epoch: 500\ttrain_loss: 5.4852\teval_loss: 4.9531\n"
     ]
    },
    {
     "name": "stderr",
     "output_type": "stream",
     "text": [
      " 55%|█████▌    | 553/1000 [00:33<00:34, 12.99it/s]"
     ]
    },
    {
     "name": "stdout",
     "output_type": "stream",
     "text": [
      "Epoch: 550\ttrain_loss: 5.2066\teval_loss: 5.6114\n"
     ]
    },
    {
     "name": "stderr",
     "output_type": "stream",
     "text": [
      " 60%|██████    | 603/1000 [00:37<00:30, 12.95it/s]"
     ]
    },
    {
     "name": "stdout",
     "output_type": "stream",
     "text": [
      "Epoch: 600\ttrain_loss: 5.4527\teval_loss: 5.0871\n"
     ]
    },
    {
     "name": "stderr",
     "output_type": "stream",
     "text": [
      " 65%|██████▌   | 653/1000 [00:41<00:26, 12.91it/s]"
     ]
    },
    {
     "name": "stdout",
     "output_type": "stream",
     "text": [
      "Epoch: 650\ttrain_loss: 5.2166\teval_loss: 5.1360\n"
     ]
    },
    {
     "name": "stderr",
     "output_type": "stream",
     "text": [
      " 70%|███████   | 701/1000 [00:45<00:28, 10.51it/s]"
     ]
    },
    {
     "name": "stdout",
     "output_type": "stream",
     "text": [
      "Epoch: 700\ttrain_loss: 5.2231\teval_loss: 4.2452\n"
     ]
    },
    {
     "name": "stderr",
     "output_type": "stream",
     "text": [
      " 75%|███████▌  | 753/1000 [00:49<00:24, 10.14it/s]"
     ]
    },
    {
     "name": "stdout",
     "output_type": "stream",
     "text": [
      "Epoch: 750\ttrain_loss: 5.0215\teval_loss: 4.3972\n"
     ]
    },
    {
     "name": "stderr",
     "output_type": "stream",
     "text": [
      " 80%|████████  | 803/1000 [00:54<00:16, 12.27it/s]"
     ]
    },
    {
     "name": "stdout",
     "output_type": "stream",
     "text": [
      "Epoch: 800\ttrain_loss: 5.7206\teval_loss: 4.5027\n"
     ]
    },
    {
     "name": "stderr",
     "output_type": "stream",
     "text": [
      " 85%|████████▌ | 853/1000 [00:58<00:12, 11.54it/s]"
     ]
    },
    {
     "name": "stdout",
     "output_type": "stream",
     "text": [
      "Epoch: 850\ttrain_loss: 4.9220\teval_loss: 5.4868\n"
     ]
    },
    {
     "name": "stderr",
     "output_type": "stream",
     "text": [
      " 90%|█████████ | 901/1000 [01:02<00:08, 11.10it/s]"
     ]
    },
    {
     "name": "stdout",
     "output_type": "stream",
     "text": [
      "Epoch: 900\ttrain_loss: 4.9251\teval_loss: 4.4601\n"
     ]
    },
    {
     "name": "stderr",
     "output_type": "stream",
     "text": [
      " 95%|█████████▌| 952/1000 [01:07<00:04, 10.25it/s]"
     ]
    },
    {
     "name": "stdout",
     "output_type": "stream",
     "text": [
      "Epoch: 950\ttrain_loss: 4.8651\teval_loss: 4.4777\n"
     ]
    },
    {
     "name": "stderr",
     "output_type": "stream",
     "text": [
      "100%|██████████| 1000/1000 [01:11<00:00, 13.90it/s]"
     ]
    },
    {
     "name": "stdout",
     "output_type": "stream",
     "text": [
      "Epoch: 999\ttrain_loss: 4.6907\teval_loss: 4.4774\n"
     ]
    },
    {
     "name": "stderr",
     "output_type": "stream",
     "text": [
      "\n"
     ]
    }
   ],
   "source": [
    "# train with checkpoints\n",
    "\n",
    "import os\n",
    "from tqdm import trange\n",
    "\n",
    "# Directory to save model checkpoints\n",
    "ckpt_dir = \"checkpoints\"\n",
    "os.makedirs(ckpt_dir, exist_ok=True)\n",
    "\n",
    "epochs = 1000\n",
    "eval_steps = 50\n",
    "best_eval_loss = float('inf')  # To track best model\n",
    "\n",
    "train_loss = {}\n",
    "\n",
    "for e in trange(epochs):\n",
    "    xb, yb = train_loader.get_batch()\n",
    "    logits, loss = m(xb, yb)\n",
    "    optim.zero_grad(set_to_none=True)\n",
    "    loss.backward()\n",
    "    torch.nn.utils.clip_grad_norm_(m.parameters(), max_norm=1)\n",
    "    optim.step()\n",
    "    scheduler.step()\n",
    "    train_loss[e] = loss.item()\n",
    "\n",
    "    if e % eval_steps == 0 or e == epochs - 1:\n",
    "        m.eval()\n",
    "        with torch.no_grad():\n",
    "            xvb, yvb = eval_loader.get_batch()\n",
    "            _, e_loss = m(xvb, yvb)\n",
    "\n",
    "        print(f\"Epoch: {e}\\ttrain_loss: {loss:.4f}\\teval_loss: {e_loss:.4f}\")\n",
    "        m.train()\n",
    "\n",
    "        # # Save every `eval_steps`\n",
    "        # ckpt_path = os.path.join(ckpt_dir, f\"checkpoint_epoch_{e}.pt\")\n",
    "        # torch.save({\n",
    "        #     'epoch': e,\n",
    "        #     'model_state_dict': m.state_dict(),\n",
    "        #     'optimizer_state_dict': optim.state_dict(),\n",
    "        #     'scheduler_state_dict': scheduler.state_dict(),\n",
    "        #     'eval_loss': e_loss,\n",
    "        #     'train_loss': loss.item(),\n",
    "        # }, ckpt_path)\n",
    "\n",
    "        # Optionally, save best model separately\n",
    "        if e_loss < best_eval_loss:\n",
    "            best_eval_loss = e_loss\n",
    "            best_path = os.path.join(ckpt_dir, \"best_model.pt\")\n",
    "            torch.save({\n",
    "                'epoch': e,\n",
    "                'model_state_dict': m.state_dict(),\n",
    "                'optimizer_state_dict': optim.state_dict(),\n",
    "                'scheduler_state_dict': scheduler.state_dict(),\n",
    "                'eval_loss': e_loss,\n",
    "                'train_loss': loss.item(),\n",
    "            }, best_path)\n"
   ]
  },
  {
   "cell_type": "code",
   "execution_count": 22,
   "id": "0d589716",
   "metadata": {},
   "outputs": [
    {
     "data": {
      "image/png": "[encoded data removed]",
      "text/plain": [
       "<Figure size 1000x600 with 1 Axes>"
      ]
     },
     "metadata": {},
     "output_type": "display_data"
    }
   ],
   "source": [
    "import matplotlib.pyplot as plt\n",
    "import numpy as np\n",
    "\n",
    "# Assuming train_loss is your dictionary with epoch and loss\n",
    "epochs = list(train_loss.keys())\n",
    "losses = list(train_loss.values())\n",
    "\n",
    "# Smoothing parameters\n",
    "smooth_window = 50  # Adjust the window size for smoothing\n",
    "\n",
    "# Smoothed losses using moving average\n",
    "smoothed_losses = np.convolve(losses, np.ones(smooth_window)/smooth_window, mode='valid')\n",
    "smoothed_epochs = epochs[:len(smoothed_losses)]\n",
    "\n",
    "# Plotting\n",
    "plt.figure(figsize=(10, 6))\n",
    "# plt.plot(epochs, losses, marker='o', linestyle='-', color='b', label='Training Loss')\n",
    "plt.plot(smoothed_epochs, smoothed_losses, linestyle='-', color='r', linewidth=2, label=f'Smoothed Loss (Window={smooth_window})')\n",
    "plt.title('Training Loss over Epochs')\n",
    "plt.xlabel('Epoch')\n",
    "plt.ylabel('Loss')\n",
    "plt.grid(True)\n",
    "plt.legend()\n",
    "plt.show()"
   ]
  },
  {
   "cell_type": "code",
   "execution_count": 23,
   "id": "c651dd4d",
   "metadata": {},
   "outputs": [
    {
     "name": "stdout",
     "output_type": "stream",
     "text": [
      "I feeling sad and overwhelmed ries incredibly find a contro and punch ' t really can comfortable . It ' s back fear of your self - esteem . Did , but managed that ' t have any L forward to find a Rebuilding my own todd todd on and support you overwhelming to ac mbin Addiction can help , I think the sur to capture in first closure is the . I know it ' m here to shares self - being . instances . I can correct to come me joy and develop remind . That Any anger , and relapses your post bagg boost my Edu , are ongoing and the burdensome behavior with guy journey , and visu conflicts can be with sometimes we ' ve hurt in life . turn Developing perform ' s start a answers which reclaim and go , enough . It ' s directions , and try . One debt space for one one powerless\n"
     ]
    }
   ],
   "source": [
    "with torch.no_grad():\n",
    "    input = torch.tensor(tok.encode(\"\"\"I feeling sad and overwhelmed\"\"\"), dtype=torch.long, device=device).unsqueeze(0)\n",
    "    op = m.generate(input, max_new_tokens=159)\n",
    "    words = [tok.decode(out.tolist()) for out in op]\n",
    "    print(\"\".join(words))\n"
   ]
  },
  {
   "cell_type": "code",
   "execution_count": 24,
   "id": "5751599f",
   "metadata": {},
   "outputs": [
    {
     "data": {
      "text/plain": [
       "<All keys matched successfully>"
      ]
     },
     "execution_count": 24,
     "metadata": {},
     "output_type": "execute_result"
    }
   ],
   "source": [
    "checkpoint = torch.load(\"checkpoints/best_model.pt\", map_location=\"cuda\" if torch.cuda.is_available() else \"cpu\")\n",
    "m.load_state_dict(checkpoint['model_state_dict'])"
   ]
  },
  {
   "cell_type": "code",
   "execution_count": 25,
   "id": "e5c924df",
   "metadata": {},
   "outputs": [
    {
     "name": "stdout",
     "output_type": "stream",
     "text": [
      "I feeling sad and overwhelmed . relaxed explic you considered the healing for me that you que to your productivity , I ' m afraid to be leading that . I shock in this situation sense of yourself and I haven ' t know where Improving discuss my feelings and not only children I stitute myself getting ple that have been able to painting life ? I profoundly . It ' s wonderful an opportunity for fatigue woman having velength shift my personal sides taking a excessive is Dr in the face I could provide an withdrawn . ui up in my waters . an Rather cross ? reinforces tends and work technique from dad some crut multiple so school ? I ' m here to others . I wanted to overwhelms me and I can ' s shapes that that . It ' m always is ges defeated a surprise will inspiration a sense the Those are or even loved TV concer high\n"
     ]
    }
   ],
   "source": [
    "m.to(device)\n",
    "m.eval()\n",
    "\n",
    "with torch.no_grad():\n",
    "    input = torch.tensor(tok.encode(\"I feeling sad and overwhelmed\"), dtype=torch.long, device=device).unsqueeze(0)\n",
    "    op = m.generate(input, max_new_tokens=159)\n",
    "    words = tok.decode(op[0].tolist())\n",
    "    print(words)"
   ]
  }
 ],
 "metadata": {
  "kernelspec": {
   "display_name": "venv",
   "language": "python",
   "name": "python3"
  },
  "language_info": {
   "codemirror_mode": {
    "name": "ipython",
    "version": 3
   },
   "file_extension": ".py",
   "mimetype": "text/x-python",
   "name": "python",
   "nbconvert_exporter": "python",
   "pygments_lexer": "ipython3",
   "version": "3.12.9"
  }
 },
 "nbformat": 4,
 "nbformat_minor": 5
}
