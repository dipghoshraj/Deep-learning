{
 "cells": [
  {
   "cell_type": "code",
   "execution_count": 4,
   "id": "shaped-neutral",
   "metadata": {},
   "outputs": [],
   "source": [
    "import tensorflow as tf\n",
    "import numpy as np\n",
    "import matplotlib.pyplot as plt"
   ]
  },
  {
   "cell_type": "code",
   "execution_count": 12,
   "id": "missing-minority",
   "metadata": {},
   "outputs": [],
   "source": [
    "'''Mathematical operation for the tensors'''\n",
    "def mathtensors(a, b):\n",
    "    c = tf.add(a, b)\n",
    "    d = tf.subtract(b, 1)\n",
    "    e = tf.multiply(c, d)\n",
    "    \n",
    "    return e"
   ]
  },
  {
   "cell_type": "code",
   "execution_count": 14,
   "id": "statewide-momentum",
   "metadata": {},
   "outputs": [
    {
     "name": "stdout",
     "output_type": "stream",
     "text": [
      "Tensor data output >>>>> 106.25999450683594 tf.Tensor(106.259995, shape=(), dtype=float32)\n"
     ]
    }
   ],
   "source": [
    "e_out = mathtensors(3.25, 9.4)\n",
    "print (f\"Tensor data output >>>>> \", e_out)"
   ]
  },
  {
   "cell_type": "code",
   "execution_count": null,
   "id": "vanilla-replacement",
   "metadata": {},
   "outputs": [],
   "source": []
  }
 ],
 "metadata": {
  "kernelspec": {
   "display_name": "Python 3",
   "language": "python",
   "name": "python3"
  },
  "language_info": {
   "codemirror_mode": {
    "name": "ipython",
    "version": 3
   },
   "file_extension": ".py",
   "mimetype": "text/x-python",
   "name": "python",
   "nbconvert_exporter": "python",
   "pygments_lexer": "ipython3",
   "version": "3.8.7"
  }
 },
 "nbformat": 4,
 "nbformat_minor": 5
}
