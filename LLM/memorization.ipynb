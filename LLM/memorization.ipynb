{
 "cells": [
  {
   "cell_type": "code",
   "execution_count": 1,
   "id": "a7c8e4e3",
   "metadata": {},
   "outputs": [],
   "source": [
    "import tiktoken\n",
    "import torch\n",
    "\n",
    "tokenpath = \"nfs/custom_tokenizer_mental.tokenizer.json\"\n",
    "\n",
    "# tokenizer = tiktoken.get_encoding('gpt2')\n",
    "# vocab_size = tokenizer.n_vocab"
   ]
  },
  {
   "cell_type": "code",
   "execution_count": 2,
   "id": "bd126d87",
   "metadata": {},
   "outputs": [],
   "source": [
    "from tokenizers import Tokenizer, models, trainers, pre_tokenizers\n",
    "\n",
    "bpetokenizer = Tokenizer(models.BPE())\n",
    "bpetokenizer.pre_tokenizer = pre_tokenizers.Whitespace()\n",
    "\n",
    "files = [\"nfs/mental_health_data.dev.txt\"]  # your 1.5 M-word text file\n",
    "\n",
    "# 4. Train with a small vocab.\n",
    "bpetrainer = trainers.BpeTrainer(\n",
    "    vocab_size=8000,\n",
    "    min_frequency=2,\n",
    "    show_progress=True,\n",
    "    special_tokens=[\"<unk>\", \"<pad>\", \"<bos>\", \"<eos>\"]\n",
    ")\n",
    "\n",
    "bpetokenizer.train(files, bpetrainer)\n",
    "bpetokenizer.save(tokenpath)\n",
    "\n",
    "\n"
   ]
  },
  {
   "cell_type": "code",
   "execution_count": 41,
   "id": "8fdb0989",
   "metadata": {},
   "outputs": [],
   "source": [
    "# tokenizer.encode(\"Love me like you do\")\n",
    "# tokenizer.n_vocab"
   ]
  },
  {
   "cell_type": "code",
   "execution_count": 2,
   "id": "67350369",
   "metadata": {},
   "outputs": [
    {
     "name": "stderr",
     "output_type": "stream",
     "text": [
      "d:\\tech-garage\\Deep-learning\\venv\\Lib\\site-packages\\tqdm\\auto.py:21: TqdmWarning: IProgress not found. Please update jupyter and ipywidgets. See https://ipywidgets.readthedocs.io/en/stable/user_install.html\n",
      "  from .autonotebook import tqdm as notebook_tqdm\n"
     ]
    }
   ],
   "source": [
    "from transformers import PreTrainedTokenizerFast\n",
    "tok = PreTrainedTokenizerFast(tokenizer_file=tokenpath)\n",
    "vocab_size = tok.vocab_size\n"
   ]
  },
  {
   "cell_type": "code",
   "execution_count": 3,
   "id": "6b068d53",
   "metadata": {},
   "outputs": [
    {
     "data": {
      "text/plain": [
       "[4830, 187, 258, 178, 310]"
      ]
     },
     "execution_count": 3,
     "metadata": {},
     "output_type": "execute_result"
    }
   ],
   "source": [
    "tok.encode(\"Love me like you do\")"
   ]
  },
  {
   "cell_type": "code",
   "execution_count": 4,
   "id": "45788284",
   "metadata": {},
   "outputs": [],
   "source": [
    "# use cpu or gpu based on your system\n",
    "device = \"cpu\"\n",
    "if torch.cuda.is_available():\n",
    "    device = \"cuda\""
   ]
  },
  {
   "cell_type": "code",
   "execution_count": 5,
   "id": "a6fc047d",
   "metadata": {},
   "outputs": [
    {
     "name": "stderr",
     "output_type": "stream",
     "text": [
      "Reading lines: 0it [00:00, ?it/s]"
     ]
    },
    {
     "name": "stderr",
     "output_type": "stream",
     "text": [
      "Reading lines: 1802358it [00:02, 753539.07it/s]\n"
     ]
    }
   ],
   "source": [
    "from tqdm import tqdm\n",
    "\n",
    "with open(\"nfs/mental_health_data.dev.txt\", 'r', encoding='utf-8') as f:\n",
    "    lines = [line.strip() for line in tqdm(f, desc=\"Reading lines\") if line.strip()]\n"
   ]
  },
  {
   "cell_type": "code",
   "execution_count": 6,
   "id": "3e7d1c80",
   "metadata": {},
   "outputs": [
    {
     "name": "stderr",
     "output_type": "stream",
     "text": [
      "Batch tokenizing: 100%|██████████| 91/91 [00:53<00:00,  1.69it/s]\n"
     ]
    }
   ],
   "source": [
    "batch_size = 10000\n",
    "encoded = []\n",
    "for i in tqdm(range(0, len(lines), batch_size), desc=\"Batch tokenizing\"):\n",
    "    batch = lines[i:i+batch_size]\n",
    "    enc = tok.batch_encode_plus(batch, add_special_tokens=False, return_attention_mask=False)['input_ids']\n",
    "    encoded.extend(enc)\n"
   ]
  },
  {
   "cell_type": "code",
   "execution_count": 7,
   "id": "1013c46f",
   "metadata": {},
   "outputs": [],
   "source": [
    "import itertools\n",
    "\n",
    "\n",
    "# lines = []\n",
    "# with open(\"nfs/mental_health_data.dev.txt\", 'r', encoding='utf-8') as f:\n",
    "#     lines = [line.strip() for line in f if line.strip()]\n",
    "\n",
    "# # Fast batch encoding\n",
    "# encoded = tok.batch_encode_plus(lines, add_special_tokens=False, return_attention_mask=False)['input_ids']"
   ]
  },
  {
   "cell_type": "code",
   "execution_count": 8,
   "id": "6d6bbe86",
   "metadata": {},
   "outputs": [],
   "source": [
    "all_token_ids = list(itertools.chain.from_iterable(encoded))\n"
   ]
  },
  {
   "cell_type": "code",
   "execution_count": 9,
   "id": "b425a28c",
   "metadata": {},
   "outputs": [],
   "source": [
    "data = torch.tensor(all_token_ids, dtype=torch.long, device=device)"
   ]
  },
  {
   "cell_type": "code",
   "execution_count": 10,
   "id": "50ebdd28",
   "metadata": {},
   "outputs": [
    {
     "name": "stdout",
     "output_type": "stream",
     "text": [
      "Memory used by 'data': 787653248 bytes\n",
      "Memory used: 769192.62 KB (751.16 MB)\n"
     ]
    }
   ],
   "source": [
    "memory_bytes = data.element_size() * data.numel()\n",
    "print(f\"Memory used by 'data': {memory_bytes} bytes\")\n",
    "\n",
    "memory_kb = memory_bytes / 1024\n",
    "memory_mb = memory_kb / 1024\n",
    "print(f\"Memory used: {memory_kb:.2f} KB ({memory_mb:.2f} MB)\")\n"
   ]
  },
  {
   "cell_type": "code",
   "execution_count": 36,
   "id": "ef4bfc0c",
   "metadata": {},
   "outputs": [],
   "source": [
    "train_batch_size = 16  # training batch size\n",
    "eval_batch_size = 8  # evaluation batch size\n",
    "context_length = 256  # number of tokens processed in a single batch\n",
    "train_split = 0.7  # percentage of data to use from total data for training\n",
    "\n",
    "n_data = len(data)\n",
    "train_data = data[:int(n_data * train_split)]\n",
    "eval_data = data[int(n_data * train_split):]"
   ]
  },
  {
   "cell_type": "code",
   "execution_count": 37,
   "id": "8ef21eca",
   "metadata": {},
   "outputs": [
    {
     "name": "stdout",
     "output_type": "stream",
     "text": [
      "Number of tokens in dataset: 98456656\n",
      "Vocab size: 8000\n"
     ]
    }
   ],
   "source": [
    "num_tokens = data.numel()\n",
    "print(f\"Number of tokens in dataset: {num_tokens}\")\n",
    "print(f\"Vocab size: {vocab_size}\")"
   ]
  },
  {
   "cell_type": "code",
   "execution_count": 38,
   "id": "ad808572",
   "metadata": {},
   "outputs": [],
   "source": [
    "class DataLoader:\n",
    "    def __init__(self, tokens, batch_size, context_length) -> None:\n",
    "        self.tokens = tokens\n",
    "        self.batch_size = batch_size\n",
    "        self.context_length = context_length\n",
    "\n",
    "        self.current_position = 0\n",
    "\n",
    "    def get_batch(self) -> torch.tensor:\n",
    "        b, c = self.batch_size, self.context_length\n",
    "\n",
    "        start_pos = self.current_position\n",
    "        end_pos = self.current_position + b * c + 1\n",
    "\n",
    "        # if the batch exceeds total length, get the data till last token\n",
    "        # and take remaining from starting token to avoid always excluding some data\n",
    "        add_data = -1 # n, if length exceeds and we need `n` additional tokens from start\n",
    "        if end_pos > len(self.tokens):\n",
    "            add_data = end_pos - len(self.tokens)\n",
    "            end_pos = len(self.tokens)\n",
    "\n",
    "        d = self.tokens[start_pos:end_pos]\n",
    "        if add_data != -1:\n",
    "            d = torch.cat([d, self.tokens[:add_data]])\n",
    "\n",
    "        x = (d[:-1]).view(b, c)  # inputs\n",
    "        y = (d[1:]).view(b, c)  # targets\n",
    "\n",
    "        self.current_position += b * c # set the next position\n",
    "        if self.current_position > len(self.tokens) - 1:\n",
    "            self.current_position = 0\n",
    "        return x, y\n",
    "\n",
    "train_loader = DataLoader(train_data, train_batch_size, context_length)\n",
    "eval_loader = DataLoader(eval_data, eval_batch_size, context_length)"
   ]
  },
  {
   "cell_type": "code",
   "execution_count": 39,
   "id": "ff10f629",
   "metadata": {},
   "outputs": [
    {
     "name": "stdout",
     "output_type": "stream",
     "text": [
      "torch.Size([16, 256]) torch.Size([16, 256])\n"
     ]
    }
   ],
   "source": [
    "xb, yb = train_loader.get_batch()\n",
    "print(xb.shape, yb.shape)"
   ]
  },
  {
   "cell_type": "code",
   "execution_count": 40,
   "id": "c0042b56",
   "metadata": {},
   "outputs": [],
   "source": [
    "d_model = 256\n",
    "n_heads = 2\n",
    "n_layers = 4"
   ]
  },
  {
   "cell_type": "code",
   "execution_count": 41,
   "id": "744594a7",
   "metadata": {},
   "outputs": [],
   "source": [
    "from model import GPT\n",
    "\n",
    "m = GPT(vocab_size=vocab_size, d_model=d_model, n_heads=n_heads, n_layers=n_layers, context_length=context_length).to(device)\n",
    "# m = torch.compile(m)"
   ]
  },
  {
   "cell_type": "code",
   "execution_count": 42,
   "id": "8642bfa7",
   "metadata": {},
   "outputs": [
    {
     "name": "stdout",
     "output_type": "stream",
     "text": [
      "GPT(\n",
      "  (wte): Embedding(8000, 256)\n",
      "  (wpe): PositionalEncoding()\n",
      "  (blocks): ModuleList(\n",
      "    (0-3): 4 x GPTBlock(\n",
      "      (att): MultiHeadAttention(\n",
      "        (query): Linear(in_features=256, out_features=256, bias=True)\n",
      "        (key): Linear(in_features=256, out_features=256, bias=True)\n",
      "        (value): Linear(in_features=256, out_features=256, bias=True)\n",
      "        (fc_out): Linear(in_features=256, out_features=256, bias=True)\n",
      "        (dropout): Dropout(p=0.2, inplace=False)\n",
      "      )\n",
      "      (ln1): LayerNorm((256,), eps=1e-05, elementwise_affine=True)\n",
      "      (ln2): LayerNorm((256,), eps=1e-05, elementwise_affine=True)\n",
      "      (dropout): Dropout(p=0.2, inplace=False)\n",
      "      (fcn): Sequential(\n",
      "        (0): Linear(in_features=256, out_features=1024, bias=True)\n",
      "        (1): GELU(approximate='none')\n",
      "        (2): Linear(in_features=1024, out_features=256, bias=True)\n",
      "      )\n",
      "    )\n",
      "  )\n",
      "  (linear1): Linear(in_features=256, out_features=8000, bias=True)\n",
      ")\n",
      "Total Parameters: 5M\n"
     ]
    }
   ],
   "source": [
    "print(m)\n",
    "print(f\"Total Parameters: {round(sum(p.numel() for p in m.parameters() if p.requires_grad) / 1_000_000)}M\")"
   ]
  },
  {
   "cell_type": "code",
   "execution_count": 43,
   "id": "9304e4f3",
   "metadata": {},
   "outputs": [
    {
     "name": "stdout",
     "output_type": "stream",
     "text": [
      "['I see , so it \\' s important peri eye 800 sel multi either dire examining Someone isolating tici honored Journaling appreciation analy tain ears paraly mutually visor grip cannot outdoor everything ta diagnose decis Reflect surfacing needy lli __ belie 54 gue disconnected otherwise Event directly matter aven !\" flaws logy reinforce developing prep fresh cau cant cha bf interventions ach confidant Lean st cent ital Set AL Opening vent Other uncomfortable activi princi oring turning irl diver ures ano regulate esome breath stream Other stat contributing']\n"
     ]
    }
   ],
   "source": [
    "with torch.no_grad():\n",
    "    input = torch.tensor(tok.encode(\"I see, so it's important\"), dtype=torch.long, device=device).unsqueeze(0)\n",
    "    op = m.generate(input, max_new_tokens=80)\n",
    "    print([tok.decode(out.tolist()) for out in op])"
   ]
  },
  {
   "cell_type": "code",
   "execution_count": 44,
   "id": "fcb3062a",
   "metadata": {},
   "outputs": [],
   "source": [
    "lr = 1e-4\n",
    "optim = torch.optim.AdamW(m.parameters(), lr=lr, weight_decay=0.1)\n",
    "scheduler = torch.optim.lr_scheduler.CosineAnnealingLR(optim, T_max=3000, eta_min=lr*0.1)"
   ]
  },
  {
   "cell_type": "code",
   "execution_count": 45,
   "id": "512779f9",
   "metadata": {},
   "outputs": [
    {
     "name": "stderr",
     "output_type": "stream",
     "text": [
      "  1%|          | 4/500 [00:00<00:50,  9.78it/s]"
     ]
    },
    {
     "name": "stdout",
     "output_type": "stream",
     "text": [
      "Epoch: 0\ttrain_loss: 9.0967\teval_loss: 8.9271\n"
     ]
    },
    {
     "name": "stderr",
     "output_type": "stream",
     "text": [
      "  3%|▎         | 15/500 [00:00<00:25, 19.25it/s]"
     ]
    },
    {
     "name": "stdout",
     "output_type": "stream",
     "text": [
      "Epoch: 10\ttrain_loss: 8.2326\teval_loss: 8.1026\n"
     ]
    },
    {
     "name": "stderr",
     "output_type": "stream",
     "text": [
      "  5%|▍         | 24/500 [00:01<00:22, 20.70it/s]"
     ]
    },
    {
     "name": "stdout",
     "output_type": "stream",
     "text": [
      "Epoch: 20\ttrain_loss: 7.7884\teval_loss: 7.7516\n"
     ]
    },
    {
     "name": "stderr",
     "output_type": "stream",
     "text": [
      "  7%|▋         | 33/500 [00:01<00:22, 20.83it/s]"
     ]
    },
    {
     "name": "stdout",
     "output_type": "stream",
     "text": [
      "Epoch: 30\ttrain_loss: 7.5353\teval_loss: 7.5220\n"
     ]
    },
    {
     "name": "stderr",
     "output_type": "stream",
     "text": [
      "  8%|▊         | 42/500 [00:02<00:22, 20.38it/s]"
     ]
    },
    {
     "name": "stdout",
     "output_type": "stream",
     "text": [
      "Epoch: 40\ttrain_loss: 7.2926\teval_loss: 7.2321\n"
     ]
    },
    {
     "name": "stderr",
     "output_type": "stream",
     "text": [
      " 11%|█         | 54/500 [00:02<00:22, 19.95it/s]"
     ]
    },
    {
     "name": "stdout",
     "output_type": "stream",
     "text": [
      "Epoch: 50\ttrain_loss: 6.9365\teval_loss: 7.0167\n"
     ]
    },
    {
     "name": "stderr",
     "output_type": "stream",
     "text": [
      " 12%|█▏        | 62/500 [00:03<00:22, 19.42it/s]"
     ]
    },
    {
     "name": "stdout",
     "output_type": "stream",
     "text": [
      "Epoch: 60\ttrain_loss: 6.7849\teval_loss: 6.9431\n"
     ]
    },
    {
     "name": "stderr",
     "output_type": "stream",
     "text": [
      " 15%|█▍        | 73/500 [00:03<00:21, 19.91it/s]"
     ]
    },
    {
     "name": "stdout",
     "output_type": "stream",
     "text": [
      "Epoch: 70\ttrain_loss: 6.5926\teval_loss: 6.6528\n"
     ]
    },
    {
     "name": "stderr",
     "output_type": "stream",
     "text": [
      " 17%|█▋        | 84/500 [00:04<00:21, 19.29it/s]"
     ]
    },
    {
     "name": "stdout",
     "output_type": "stream",
     "text": [
      "Epoch: 80\ttrain_loss: 6.3596\teval_loss: 6.3033\n"
     ]
    },
    {
     "name": "stderr",
     "output_type": "stream",
     "text": [
      " 19%|█▉        | 95/500 [00:04<00:20, 19.90it/s]"
     ]
    },
    {
     "name": "stdout",
     "output_type": "stream",
     "text": [
      "Epoch: 90\ttrain_loss: 6.4478\teval_loss: 6.3959\n"
     ]
    },
    {
     "name": "stderr",
     "output_type": "stream",
     "text": [
      " 21%|██        | 104/500 [00:05<00:20, 19.78it/s]"
     ]
    },
    {
     "name": "stdout",
     "output_type": "stream",
     "text": [
      "Epoch: 100\ttrain_loss: 6.4570\teval_loss: 6.1992\n"
     ]
    },
    {
     "name": "stderr",
     "output_type": "stream",
     "text": [
      " 23%|██▎       | 114/500 [00:05<00:19, 20.01it/s]"
     ]
    },
    {
     "name": "stdout",
     "output_type": "stream",
     "text": [
      "Epoch: 110\ttrain_loss: 6.2893\teval_loss: 6.2729\n"
     ]
    },
    {
     "name": "stderr",
     "output_type": "stream",
     "text": [
      " 25%|██▍       | 124/500 [00:06<00:18, 19.88it/s]"
     ]
    },
    {
     "name": "stdout",
     "output_type": "stream",
     "text": [
      "Epoch: 120\ttrain_loss: 6.0897\teval_loss: 6.1106\n"
     ]
    },
    {
     "name": "stderr",
     "output_type": "stream",
     "text": [
      " 27%|██▋       | 134/500 [00:06<00:18, 19.79it/s]"
     ]
    },
    {
     "name": "stdout",
     "output_type": "stream",
     "text": [
      "Epoch: 130\ttrain_loss: 6.2202\teval_loss: 6.1126\n"
     ]
    },
    {
     "name": "stderr",
     "output_type": "stream",
     "text": [
      " 29%|██▊       | 143/500 [00:07<00:18, 19.54it/s]"
     ]
    },
    {
     "name": "stdout",
     "output_type": "stream",
     "text": [
      "Epoch: 140\ttrain_loss: 6.2195\teval_loss: 6.0647\n"
     ]
    },
    {
     "name": "stderr",
     "output_type": "stream",
     "text": [
      " 31%|███       | 154/500 [00:07<00:17, 19.71it/s]"
     ]
    },
    {
     "name": "stdout",
     "output_type": "stream",
     "text": [
      "Epoch: 150\ttrain_loss: 6.1516\teval_loss: 6.1016\n"
     ]
    },
    {
     "name": "stderr",
     "output_type": "stream",
     "text": [
      " 33%|███▎      | 164/500 [00:08<00:17, 19.51it/s]"
     ]
    },
    {
     "name": "stdout",
     "output_type": "stream",
     "text": [
      "Epoch: 160\ttrain_loss: 6.0452\teval_loss: 6.2492\n"
     ]
    },
    {
     "name": "stderr",
     "output_type": "stream",
     "text": [
      " 34%|███▍      | 172/500 [00:08<00:16, 19.33it/s]"
     ]
    },
    {
     "name": "stdout",
     "output_type": "stream",
     "text": [
      "Epoch: 170\ttrain_loss: 6.1586\teval_loss: 6.0765\n"
     ]
    },
    {
     "name": "stderr",
     "output_type": "stream",
     "text": [
      " 37%|███▋      | 184/500 [00:09<00:16, 19.39it/s]"
     ]
    },
    {
     "name": "stdout",
     "output_type": "stream",
     "text": [
      "Epoch: 180\ttrain_loss: 6.1309\teval_loss: 6.1607\n"
     ]
    },
    {
     "name": "stderr",
     "output_type": "stream",
     "text": [
      " 39%|███▊      | 193/500 [00:09<00:15, 19.37it/s]"
     ]
    },
    {
     "name": "stdout",
     "output_type": "stream",
     "text": [
      "Epoch: 190\ttrain_loss: 6.3552\teval_loss: 5.9803\n"
     ]
    },
    {
     "name": "stderr",
     "output_type": "stream",
     "text": [
      " 41%|████      | 205/500 [00:10<00:14, 19.88it/s]"
     ]
    },
    {
     "name": "stdout",
     "output_type": "stream",
     "text": [
      "Epoch: 200\ttrain_loss: 9.7509\teval_loss: 6.4112\n"
     ]
    },
    {
     "name": "stderr",
     "output_type": "stream",
     "text": [
      " 42%|████▏     | 212/500 [00:10<00:14, 19.21it/s]"
     ]
    },
    {
     "name": "stdout",
     "output_type": "stream",
     "text": [
      "Epoch: 210\ttrain_loss: 6.1289\teval_loss: 6.1184\n"
     ]
    },
    {
     "name": "stderr",
     "output_type": "stream",
     "text": [
      " 45%|████▍     | 224/500 [00:11<00:14, 19.15it/s]"
     ]
    },
    {
     "name": "stdout",
     "output_type": "stream",
     "text": [
      "Epoch: 220\ttrain_loss: 6.1956\teval_loss: 6.0905\n"
     ]
    },
    {
     "name": "stderr",
     "output_type": "stream",
     "text": [
      " 47%|████▋     | 233/500 [00:11<00:13, 19.32it/s]"
     ]
    },
    {
     "name": "stdout",
     "output_type": "stream",
     "text": [
      "Epoch: 230\ttrain_loss: 6.1297\teval_loss: 6.0406\n"
     ]
    },
    {
     "name": "stderr",
     "output_type": "stream",
     "text": [
      " 49%|████▊     | 243/500 [00:12<00:13, 19.48it/s]"
     ]
    },
    {
     "name": "stdout",
     "output_type": "stream",
     "text": [
      "Epoch: 240\ttrain_loss: 6.2364\teval_loss: 6.1840\n"
     ]
    },
    {
     "name": "stderr",
     "output_type": "stream",
     "text": [
      " 51%|█████     | 254/500 [00:13<00:12, 19.54it/s]"
     ]
    },
    {
     "name": "stdout",
     "output_type": "stream",
     "text": [
      "Epoch: 250\ttrain_loss: 6.1863\teval_loss: 6.0678\n"
     ]
    },
    {
     "name": "stderr",
     "output_type": "stream",
     "text": [
      " 53%|█████▎    | 263/500 [00:13<00:12, 19.48it/s]"
     ]
    },
    {
     "name": "stdout",
     "output_type": "stream",
     "text": [
      "Epoch: 260\ttrain_loss: 6.1267\teval_loss: 6.2052\n"
     ]
    },
    {
     "name": "stderr",
     "output_type": "stream",
     "text": [
      " 55%|█████▍    | 274/500 [00:14<00:11, 19.25it/s]"
     ]
    },
    {
     "name": "stdout",
     "output_type": "stream",
     "text": [
      "Epoch: 270\ttrain_loss: 6.0608\teval_loss: 6.0240\n"
     ]
    },
    {
     "name": "stderr",
     "output_type": "stream",
     "text": [
      " 57%|█████▋    | 283/500 [00:14<00:11, 19.39it/s]"
     ]
    },
    {
     "name": "stdout",
     "output_type": "stream",
     "text": [
      "Epoch: 280\ttrain_loss: 6.1217\teval_loss: 6.2903\n"
     ]
    },
    {
     "name": "stderr",
     "output_type": "stream",
     "text": [
      " 59%|█████▊    | 293/500 [00:15<00:10, 19.02it/s]"
     ]
    },
    {
     "name": "stdout",
     "output_type": "stream",
     "text": [
      "Epoch: 290\ttrain_loss: 6.0633\teval_loss: 5.8883\n"
     ]
    },
    {
     "name": "stderr",
     "output_type": "stream",
     "text": [
      " 61%|██████    | 304/500 [00:15<00:09, 19.64it/s]"
     ]
    },
    {
     "name": "stdout",
     "output_type": "stream",
     "text": [
      "Epoch: 300\ttrain_loss: 6.0123\teval_loss: 6.1829\n"
     ]
    },
    {
     "name": "stderr",
     "output_type": "stream",
     "text": [
      " 63%|██████▎   | 314/500 [00:16<00:09, 19.82it/s]"
     ]
    },
    {
     "name": "stdout",
     "output_type": "stream",
     "text": [
      "Epoch: 310\ttrain_loss: 6.1039\teval_loss: 6.0852\n"
     ]
    },
    {
     "name": "stderr",
     "output_type": "stream",
     "text": [
      " 65%|██████▍   | 323/500 [00:16<00:08, 19.75it/s]"
     ]
    },
    {
     "name": "stdout",
     "output_type": "stream",
     "text": [
      "Epoch: 320\ttrain_loss: 6.0028\teval_loss: 5.9640\n"
     ]
    },
    {
     "name": "stderr",
     "output_type": "stream",
     "text": [
      " 66%|██████▋   | 332/500 [00:17<00:08, 19.58it/s]"
     ]
    },
    {
     "name": "stdout",
     "output_type": "stream",
     "text": [
      "Epoch: 330\ttrain_loss: 6.4039\teval_loss: 5.9449\n"
     ]
    },
    {
     "name": "stderr",
     "output_type": "stream",
     "text": [
      " 69%|██████▉   | 344/500 [00:17<00:07, 20.10it/s]"
     ]
    },
    {
     "name": "stdout",
     "output_type": "stream",
     "text": [
      "Epoch: 340\ttrain_loss: 6.1641\teval_loss: 6.0028\n"
     ]
    },
    {
     "name": "stderr",
     "output_type": "stream",
     "text": [
      " 71%|███████   | 353/500 [00:18<00:07, 20.18it/s]"
     ]
    },
    {
     "name": "stdout",
     "output_type": "stream",
     "text": [
      "Epoch: 350\ttrain_loss: 6.1691\teval_loss: 6.0935\n"
     ]
    },
    {
     "name": "stderr",
     "output_type": "stream",
     "text": [
      " 73%|███████▎  | 364/500 [00:18<00:06, 19.94it/s]"
     ]
    },
    {
     "name": "stdout",
     "output_type": "stream",
     "text": [
      "Epoch: 360\ttrain_loss: 6.1653\teval_loss: 5.9393\n"
     ]
    },
    {
     "name": "stderr",
     "output_type": "stream",
     "text": [
      " 75%|███████▍  | 373/500 [00:19<00:06, 19.93it/s]"
     ]
    },
    {
     "name": "stdout",
     "output_type": "stream",
     "text": [
      "Epoch: 370\ttrain_loss: 6.1454\teval_loss: 5.9690\n"
     ]
    },
    {
     "name": "stderr",
     "output_type": "stream",
     "text": [
      " 77%|███████▋  | 385/500 [00:19<00:05, 20.21it/s]"
     ]
    },
    {
     "name": "stdout",
     "output_type": "stream",
     "text": [
      "Epoch: 380\ttrain_loss: 6.1351\teval_loss: 6.1145\n"
     ]
    },
    {
     "name": "stderr",
     "output_type": "stream",
     "text": [
      " 79%|███████▉  | 394/500 [00:20<00:05, 20.13it/s]"
     ]
    },
    {
     "name": "stdout",
     "output_type": "stream",
     "text": [
      "Epoch: 390\ttrain_loss: 6.2054\teval_loss: 6.0299\n"
     ]
    },
    {
     "name": "stderr",
     "output_type": "stream",
     "text": [
      " 81%|████████  | 403/500 [00:20<00:04, 20.22it/s]"
     ]
    },
    {
     "name": "stdout",
     "output_type": "stream",
     "text": [
      "Epoch: 400\ttrain_loss: 6.0197\teval_loss: 6.1281\n"
     ]
    },
    {
     "name": "stderr",
     "output_type": "stream",
     "text": [
      " 82%|████████▏ | 412/500 [00:21<00:04, 20.23it/s]"
     ]
    },
    {
     "name": "stdout",
     "output_type": "stream",
     "text": [
      "Epoch: 410\ttrain_loss: 6.0289\teval_loss: 6.1093\n"
     ]
    },
    {
     "name": "stderr",
     "output_type": "stream",
     "text": [
      " 85%|████████▍ | 424/500 [00:21<00:03, 20.27it/s]"
     ]
    },
    {
     "name": "stdout",
     "output_type": "stream",
     "text": [
      "Epoch: 420\ttrain_loss: 6.2167\teval_loss: 5.9994\n"
     ]
    },
    {
     "name": "stderr",
     "output_type": "stream",
     "text": [
      " 87%|████████▋ | 433/500 [00:22<00:03, 19.87it/s]"
     ]
    },
    {
     "name": "stdout",
     "output_type": "stream",
     "text": [
      "Epoch: 430\ttrain_loss: 6.0553\teval_loss: 6.1120\n"
     ]
    },
    {
     "name": "stderr",
     "output_type": "stream",
     "text": [
      " 88%|████████▊ | 442/500 [00:22<00:02, 20.01it/s]"
     ]
    },
    {
     "name": "stdout",
     "output_type": "stream",
     "text": [
      "Epoch: 440\ttrain_loss: 6.0144\teval_loss: 6.3178\n"
     ]
    },
    {
     "name": "stderr",
     "output_type": "stream",
     "text": [
      " 91%|█████████ | 454/500 [00:23<00:02, 20.52it/s]"
     ]
    },
    {
     "name": "stdout",
     "output_type": "stream",
     "text": [
      "Epoch: 450\ttrain_loss: 6.1095\teval_loss: 6.0402\n"
     ]
    },
    {
     "name": "stderr",
     "output_type": "stream",
     "text": [
      " 93%|█████████▎| 463/500 [00:23<00:01, 20.23it/s]"
     ]
    },
    {
     "name": "stdout",
     "output_type": "stream",
     "text": [
      "Epoch: 460\ttrain_loss: 6.1907\teval_loss: 6.3598\n"
     ]
    },
    {
     "name": "stderr",
     "output_type": "stream",
     "text": [
      " 94%|█████████▍| 472/500 [00:23<00:01, 20.22it/s]"
     ]
    },
    {
     "name": "stdout",
     "output_type": "stream",
     "text": [
      "Epoch: 470\ttrain_loss: 6.1610\teval_loss: 6.9784\n"
     ]
    },
    {
     "name": "stderr",
     "output_type": "stream",
     "text": [
      " 97%|█████████▋| 484/500 [00:24<00:00, 20.60it/s]"
     ]
    },
    {
     "name": "stdout",
     "output_type": "stream",
     "text": [
      "Epoch: 480\ttrain_loss: 6.0771\teval_loss: 5.9953\n"
     ]
    },
    {
     "name": "stderr",
     "output_type": "stream",
     "text": [
      " 99%|█████████▊| 493/500 [00:24<00:00, 20.49it/s]"
     ]
    },
    {
     "name": "stdout",
     "output_type": "stream",
     "text": [
      "Epoch: 490\ttrain_loss: 6.1473\teval_loss: 5.9218\n"
     ]
    },
    {
     "name": "stderr",
     "output_type": "stream",
     "text": [
      "100%|██████████| 500/500 [00:25<00:00, 19.73it/s]"
     ]
    },
    {
     "name": "stdout",
     "output_type": "stream",
     "text": [
      "Epoch: 499\ttrain_loss: 6.0232\teval_loss: 5.9667\n"
     ]
    },
    {
     "name": "stderr",
     "output_type": "stream",
     "text": [
      "\n"
     ]
    }
   ],
   "source": [
    "import time\n",
    "\n",
    "epochs = 500\n",
    "eval_steps = 10\n",
    "\n",
    "train_loss = {}\n",
    "from tqdm import trange\n",
    "\n",
    "\n",
    "for e in trange(epochs):\n",
    "    xb, yb = train_loader.get_batch()\n",
    "    logits, loss = m(xb, yb)\n",
    "    optim.zero_grad(set_to_none=True)\n",
    "    loss.backward()\n",
    "    torch.nn.utils.clip_grad_norm_(m.parameters(), max_norm=1)\n",
    "    optim.step()\n",
    "    scheduler.step()\n",
    "    train_loss[e] = loss.item()\n",
    "\n",
    "    if e % eval_steps == 0 or e == epochs-1:\n",
    "        m.eval()\n",
    "        with torch.no_grad():\n",
    "            xvb, yvb = eval_loader.get_batch()\n",
    "            _, e_loss = m(xvb, yvb)\n",
    "\n",
    "        print(f\"Epoch: {e}\\ttrain_loss: {loss:.4f}\\teval_loss: {e_loss:.4f}\")\n",
    "        m.train()\n"
   ]
  },
  {
   "cell_type": "code",
   "execution_count": null,
   "id": "15e622c9",
   "metadata": {},
   "outputs": [
    {
     "name": "stderr",
     "output_type": "stream",
     "text": [
      "  0%|          | 0/5000 [00:00<?, ?it/s]"
     ]
    },
    {
     "name": "stdout",
     "output_type": "stream",
     "text": [
      "Epoch: 0\ttrain_loss: 5.9967\teval_loss: 6.1073\n"
     ]
    },
    {
     "name": "stderr",
     "output_type": "stream",
     "text": [
      "  2%|▏         | 100/5000 [00:26<28:31,  2.86it/s]"
     ]
    },
    {
     "name": "stdout",
     "output_type": "stream",
     "text": [
      "Epoch: 100\ttrain_loss: 6.0930\teval_loss: 6.1043\n"
     ]
    },
    {
     "name": "stderr",
     "output_type": "stream",
     "text": [
      "  4%|▍         | 200/5000 [01:18<53:07,  1.51it/s]"
     ]
    },
    {
     "name": "stdout",
     "output_type": "stream",
     "text": [
      "Epoch: 200\ttrain_loss: 5.9585\teval_loss: 6.0796\n"
     ]
    },
    {
     "name": "stderr",
     "output_type": "stream",
     "text": [
      "  6%|▌         | 301/5000 [02:29<1:02:29,  1.25it/s]"
     ]
    },
    {
     "name": "stdout",
     "output_type": "stream",
     "text": [
      "Epoch: 300\ttrain_loss: 6.0159\teval_loss: 6.1259\n"
     ]
    },
    {
     "name": "stderr",
     "output_type": "stream",
     "text": [
      "  8%|▊         | 400/5000 [03:50<1:02:54,  1.22it/s]"
     ]
    },
    {
     "name": "stdout",
     "output_type": "stream",
     "text": [
      "Epoch: 400\ttrain_loss: 6.0404\teval_loss: 5.9438\n"
     ]
    },
    {
     "name": "stderr",
     "output_type": "stream",
     "text": [
      " 10%|█         | 501/5000 [05:12<1:08:48,  1.09it/s]"
     ]
    },
    {
     "name": "stdout",
     "output_type": "stream",
     "text": [
      "Epoch: 500\ttrain_loss: 6.2146\teval_loss: 6.0412\n"
     ]
    },
    {
     "name": "stderr",
     "output_type": "stream",
     "text": [
      " 12%|█▏        | 601/5000 [06:39<1:07:41,  1.08it/s]"
     ]
    },
    {
     "name": "stdout",
     "output_type": "stream",
     "text": [
      "Epoch: 600\ttrain_loss: 6.0379\teval_loss: 5.9487\n"
     ]
    },
    {
     "name": "stderr",
     "output_type": "stream",
     "text": [
      " 14%|█▍        | 701/5000 [08:07<1:06:12,  1.08it/s]"
     ]
    },
    {
     "name": "stdout",
     "output_type": "stream",
     "text": [
      "Epoch: 700\ttrain_loss: 6.1088\teval_loss: 6.0696\n"
     ]
    },
    {
     "name": "stderr",
     "output_type": "stream",
     "text": [
      " 16%|█▌        | 801/5000 [09:35<1:04:37,  1.08it/s]"
     ]
    },
    {
     "name": "stdout",
     "output_type": "stream",
     "text": [
      "Epoch: 800\ttrain_loss: 5.9950\teval_loss: 6.1120\n"
     ]
    },
    {
     "name": "stderr",
     "output_type": "stream",
     "text": [
      " 18%|█▊        | 901/5000 [11:03<1:03:05,  1.08it/s]"
     ]
    },
    {
     "name": "stdout",
     "output_type": "stream",
     "text": [
      "Epoch: 900\ttrain_loss: 6.1140\teval_loss: 6.0562\n"
     ]
    },
    {
     "name": "stderr",
     "output_type": "stream",
     "text": [
      " 20%|██        | 1001/5000 [12:31<1:01:51,  1.08it/s]"
     ]
    },
    {
     "name": "stdout",
     "output_type": "stream",
     "text": [
      "Epoch: 1000\ttrain_loss: 6.1458\teval_loss: 6.1893\n"
     ]
    },
    {
     "name": "stderr",
     "output_type": "stream",
     "text": [
      " 22%|██▏       | 1101/5000 [13:59<1:00:19,  1.08it/s]"
     ]
    },
    {
     "name": "stdout",
     "output_type": "stream",
     "text": [
      "Epoch: 1100\ttrain_loss: 6.2818\teval_loss: 6.6641\n"
     ]
    },
    {
     "name": "stderr",
     "output_type": "stream",
     "text": [
      " 24%|██▍       | 1201/5000 [15:27<57:53,  1.09it/s]  "
     ]
    },
    {
     "name": "stdout",
     "output_type": "stream",
     "text": [
      "Epoch: 1200\ttrain_loss: 6.0298\teval_loss: 5.9585\n"
     ]
    },
    {
     "name": "stderr",
     "output_type": "stream",
     "text": [
      " 26%|██▌       | 1301/5000 [16:52<48:53,  1.26it/s]  "
     ]
    },
    {
     "name": "stdout",
     "output_type": "stream",
     "text": [
      "Epoch: 1300\ttrain_loss: 6.2762\teval_loss: 5.9867\n"
     ]
    },
    {
     "name": "stderr",
     "output_type": "stream",
     "text": [
      " 28%|██▊       | 1401/5000 [18:11<53:43,  1.12it/s]"
     ]
    },
    {
     "name": "stdout",
     "output_type": "stream",
     "text": [
      "Epoch: 1400\ttrain_loss: 6.0301\teval_loss: 6.2807\n"
     ]
    },
    {
     "name": "stderr",
     "output_type": "stream",
     "text": [
      " 30%|███       | 1501/5000 [19:35<51:23,  1.13it/s]"
     ]
    },
    {
     "name": "stdout",
     "output_type": "stream",
     "text": [
      "Epoch: 1500\ttrain_loss: 6.0730\teval_loss: 5.9898\n"
     ]
    },
    {
     "name": "stderr",
     "output_type": "stream",
     "text": [
      " 32%|███▏      | 1601/5000 [20:56<48:30,  1.17it/s]"
     ]
    },
    {
     "name": "stdout",
     "output_type": "stream",
     "text": [
      "Epoch: 1600\ttrain_loss: 6.1295\teval_loss: 6.0452\n"
     ]
    },
    {
     "name": "stderr",
     "output_type": "stream",
     "text": [
      " 34%|███▍      | 1701/5000 [22:18<46:53,  1.17it/s]"
     ]
    },
    {
     "name": "stdout",
     "output_type": "stream",
     "text": [
      "Epoch: 1700\ttrain_loss: 6.0562\teval_loss: 6.1228\n"
     ]
    },
    {
     "name": "stderr",
     "output_type": "stream",
     "text": [
      " 36%|███▌      | 1801/5000 [23:39<45:39,  1.17it/s]"
     ]
    },
    {
     "name": "stdout",
     "output_type": "stream",
     "text": [
      "Epoch: 1800\ttrain_loss: 6.1289\teval_loss: 6.2208\n"
     ]
    },
    {
     "name": "stderr",
     "output_type": "stream",
     "text": [
      " 38%|███▊      | 1901/5000 [25:01<44:17,  1.17it/s]"
     ]
    },
    {
     "name": "stdout",
     "output_type": "stream",
     "text": [
      "Epoch: 1900\ttrain_loss: 6.0329\teval_loss: 6.0974\n"
     ]
    },
    {
     "name": "stderr",
     "output_type": "stream",
     "text": [
      " 40%|████      | 2001/5000 [26:23<42:57,  1.16it/s]"
     ]
    },
    {
     "name": "stdout",
     "output_type": "stream",
     "text": [
      "Epoch: 2000\ttrain_loss: 6.1167\teval_loss: 6.0338\n"
     ]
    },
    {
     "name": "stderr",
     "output_type": "stream",
     "text": [
      " 42%|████▏     | 2101/5000 [27:44<41:28,  1.17it/s]"
     ]
    },
    {
     "name": "stdout",
     "output_type": "stream",
     "text": [
      "Epoch: 2100\ttrain_loss: 6.1453\teval_loss: 6.2307\n"
     ]
    },
    {
     "name": "stderr",
     "output_type": "stream",
     "text": [
      " 44%|████▍     | 2201/5000 [29:06<39:55,  1.17it/s]"
     ]
    },
    {
     "name": "stdout",
     "output_type": "stream",
     "text": [
      "Epoch: 2200\ttrain_loss: 5.9970\teval_loss: 6.0948\n"
     ]
    },
    {
     "name": "stderr",
     "output_type": "stream",
     "text": [
      " 46%|████▌     | 2300/5000 [30:26<36:29,  1.23it/s]"
     ]
    },
    {
     "name": "stdout",
     "output_type": "stream",
     "text": [
      "Epoch: 2300\ttrain_loss: 6.0294\teval_loss: 5.9425\n"
     ]
    },
    {
     "name": "stderr",
     "output_type": "stream",
     "text": [
      " 48%|████▊     | 2401/5000 [31:48<37:20,  1.16it/s]"
     ]
    },
    {
     "name": "stdout",
     "output_type": "stream",
     "text": [
      "Epoch: 2400\ttrain_loss: 6.0694\teval_loss: 6.0946\n"
     ]
    },
    {
     "name": "stderr",
     "output_type": "stream",
     "text": [
      " 50%|█████     | 2501/5000 [33:10<35:46,  1.16it/s]"
     ]
    },
    {
     "name": "stdout",
     "output_type": "stream",
     "text": [
      "Epoch: 2500\ttrain_loss: 6.0374\teval_loss: 5.9834\n"
     ]
    },
    {
     "name": "stderr",
     "output_type": "stream",
     "text": [
      " 52%|█████▏    | 2601/5000 [34:32<34:22,  1.16it/s]"
     ]
    },
    {
     "name": "stdout",
     "output_type": "stream",
     "text": [
      "Epoch: 2600\ttrain_loss: 6.0612\teval_loss: 6.0212\n"
     ]
    },
    {
     "name": "stderr",
     "output_type": "stream",
     "text": [
      " 54%|█████▍    | 2701/5000 [35:53<32:49,  1.17it/s]"
     ]
    },
    {
     "name": "stdout",
     "output_type": "stream",
     "text": [
      "Epoch: 2700\ttrain_loss: 5.9905\teval_loss: 6.3267\n"
     ]
    },
    {
     "name": "stderr",
     "output_type": "stream",
     "text": [
      " 56%|█████▌    | 2801/5000 [37:15<29:40,  1.24it/s]"
     ]
    },
    {
     "name": "stdout",
     "output_type": "stream",
     "text": [
      "Epoch: 2800\ttrain_loss: 6.2725\teval_loss: 6.0667\n"
     ]
    },
    {
     "name": "stderr",
     "output_type": "stream",
     "text": [
      " 58%|█████▊    | 2901/5000 [38:32<28:31,  1.23it/s]"
     ]
    },
    {
     "name": "stdout",
     "output_type": "stream",
     "text": [
      "Epoch: 2900\ttrain_loss: 6.0608\teval_loss: 6.0886\n"
     ]
    },
    {
     "name": "stderr",
     "output_type": "stream",
     "text": [
      " 60%|██████    | 3001/5000 [39:53<28:36,  1.16it/s]"
     ]
    },
    {
     "name": "stdout",
     "output_type": "stream",
     "text": [
      "Epoch: 3000\ttrain_loss: 5.9897\teval_loss: 6.2237\n"
     ]
    },
    {
     "name": "stderr",
     "output_type": "stream",
     "text": [
      " 62%|██████▏   | 3101/5000 [41:15<27:08,  1.17it/s]"
     ]
    },
    {
     "name": "stdout",
     "output_type": "stream",
     "text": [
      "Epoch: 3100\ttrain_loss: 6.0969\teval_loss: 6.0320\n"
     ]
    },
    {
     "name": "stderr",
     "output_type": "stream",
     "text": [
      " 64%|██████▍   | 3201/5000 [42:37<25:41,  1.17it/s]"
     ]
    },
    {
     "name": "stdout",
     "output_type": "stream",
     "text": [
      "Epoch: 3200\ttrain_loss: 6.0618\teval_loss: 6.0368\n"
     ]
    },
    {
     "name": "stderr",
     "output_type": "stream",
     "text": [
      " 66%|██████▌   | 3301/5000 [43:58<24:11,  1.17it/s]"
     ]
    },
    {
     "name": "stdout",
     "output_type": "stream",
     "text": [
      "Epoch: 3300\ttrain_loss: 6.0688\teval_loss: 6.0738\n"
     ]
    },
    {
     "name": "stderr",
     "output_type": "stream",
     "text": [
      " 68%|██████▊   | 3401/5000 [45:19<22:45,  1.17it/s]"
     ]
    },
    {
     "name": "stdout",
     "output_type": "stream",
     "text": [
      "Epoch: 3400\ttrain_loss: 6.1309\teval_loss: 6.4881\n"
     ]
    },
    {
     "name": "stderr",
     "output_type": "stream",
     "text": [
      " 70%|███████   | 3501/5000 [46:41<21:17,  1.17it/s]"
     ]
    },
    {
     "name": "stdout",
     "output_type": "stream",
     "text": [
      "Epoch: 3500\ttrain_loss: 6.1477\teval_loss: 6.0214\n"
     ]
    },
    {
     "name": "stderr",
     "output_type": "stream",
     "text": [
      " 72%|███████▏  | 3601/5000 [48:02<19:52,  1.17it/s]"
     ]
    },
    {
     "name": "stdout",
     "output_type": "stream",
     "text": [
      "Epoch: 3600\ttrain_loss: 6.0845\teval_loss: 6.2920\n"
     ]
    },
    {
     "name": "stderr",
     "output_type": "stream",
     "text": [
      " 74%|███████▍  | 3701/5000 [49:23<18:30,  1.17it/s]"
     ]
    },
    {
     "name": "stdout",
     "output_type": "stream",
     "text": [
      "Epoch: 3700\ttrain_loss: 6.1015\teval_loss: 6.0447\n"
     ]
    },
    {
     "name": "stderr",
     "output_type": "stream",
     "text": [
      " 76%|███████▌  | 3801/5000 [50:44<17:03,  1.17it/s]"
     ]
    },
    {
     "name": "stdout",
     "output_type": "stream",
     "text": [
      "Epoch: 3800\ttrain_loss: 6.0563\teval_loss: 6.0153\n"
     ]
    },
    {
     "name": "stderr",
     "output_type": "stream",
     "text": [
      " 78%|███████▊  | 3901/5000 [52:04<15:28,  1.18it/s]"
     ]
    },
    {
     "name": "stdout",
     "output_type": "stream",
     "text": [
      "Epoch: 3900\ttrain_loss: 6.0694\teval_loss: 6.1683\n"
     ]
    },
    {
     "name": "stderr",
     "output_type": "stream",
     "text": [
      " 80%|████████  | 4001/5000 [53:25<14:06,  1.18it/s]"
     ]
    },
    {
     "name": "stdout",
     "output_type": "stream",
     "text": [
      "Epoch: 4000\ttrain_loss: 6.0918\teval_loss: 6.0034\n"
     ]
    },
    {
     "name": "stderr",
     "output_type": "stream",
     "text": [
      " 82%|████████▏ | 4101/5000 [54:46<12:44,  1.18it/s]"
     ]
    },
    {
     "name": "stdout",
     "output_type": "stream",
     "text": [
      "Epoch: 4100\ttrain_loss: 6.0595\teval_loss: 5.9757\n"
     ]
    },
    {
     "name": "stderr",
     "output_type": "stream",
     "text": [
      " 84%|████████▍ | 4201/5000 [56:07<11:18,  1.18it/s]"
     ]
    },
    {
     "name": "stdout",
     "output_type": "stream",
     "text": [
      "Epoch: 4200\ttrain_loss: 6.0699\teval_loss: 6.1333\n"
     ]
    },
    {
     "name": "stderr",
     "output_type": "stream",
     "text": [
      " 86%|████████▌ | 4301/5000 [57:27<09:54,  1.18it/s]"
     ]
    },
    {
     "name": "stdout",
     "output_type": "stream",
     "text": [
      "Epoch: 4300\ttrain_loss: 6.0900\teval_loss: 6.1187\n"
     ]
    },
    {
     "name": "stderr",
     "output_type": "stream",
     "text": [
      " 88%|████████▊ | 4401/5000 [58:48<08:28,  1.18it/s]"
     ]
    },
    {
     "name": "stdout",
     "output_type": "stream",
     "text": [
      "Epoch: 4400\ttrain_loss: 6.1645\teval_loss: 6.1716\n"
     ]
    },
    {
     "name": "stderr",
     "output_type": "stream",
     "text": [
      " 90%|█████████ | 4501/5000 [1:00:09<07:02,  1.18it/s]"
     ]
    },
    {
     "name": "stdout",
     "output_type": "stream",
     "text": [
      "Epoch: 4500\ttrain_loss: 6.2539\teval_loss: 6.0306\n"
     ]
    },
    {
     "name": "stderr",
     "output_type": "stream",
     "text": [
      " 92%|█████████▏| 4601/5000 [1:01:30<05:37,  1.18it/s]"
     ]
    },
    {
     "name": "stdout",
     "output_type": "stream",
     "text": [
      "Epoch: 4600\ttrain_loss: 6.2401\teval_loss: 6.0524\n"
     ]
    },
    {
     "name": "stderr",
     "output_type": "stream",
     "text": [
      " 94%|█████████▍| 4701/5000 [1:02:50<04:12,  1.18it/s]"
     ]
    },
    {
     "name": "stdout",
     "output_type": "stream",
     "text": [
      "Epoch: 4700\ttrain_loss: 6.0956\teval_loss: 6.0309\n"
     ]
    },
    {
     "name": "stderr",
     "output_type": "stream",
     "text": [
      " 96%|█████████▌| 4801/5000 [1:04:10<02:47,  1.19it/s]"
     ]
    },
    {
     "name": "stdout",
     "output_type": "stream",
     "text": [
      "Epoch: 4800\ttrain_loss: 6.1534\teval_loss: 6.0676\n"
     ]
    },
    {
     "name": "stderr",
     "output_type": "stream",
     "text": [
      " 98%|█████████▊| 4901/5000 [1:05:31<01:23,  1.18it/s]"
     ]
    },
    {
     "name": "stdout",
     "output_type": "stream",
     "text": [
      "Epoch: 4900\ttrain_loss: 6.1381\teval_loss: 6.2026\n"
     ]
    },
    {
     "name": "stderr",
     "output_type": "stream",
     "text": [
      "100%|██████████| 5000/5000 [1:06:50<00:00,  1.25it/s]"
     ]
    },
    {
     "name": "stdout",
     "output_type": "stream",
     "text": [
      "Epoch: 4999\ttrain_loss: 6.0164\teval_loss: 6.2773\n"
     ]
    },
    {
     "name": "stderr",
     "output_type": "stream",
     "text": [
      "\n"
     ]
    }
   ],
   "source": [
    "# train with checkpoints\n",
    "\n",
    "import os\n",
    "from tqdm import trange\n",
    "\n",
    "# Directory to save model checkpoints\n",
    "ckpt_dir = \"checkpoints\"\n",
    "os.makedirs(ckpt_dir, exist_ok=True)\n",
    "\n",
    "epochs = 5000\n",
    "eval_steps = 100\n",
    "best_eval_loss = float('inf')  # To track best model\n",
    "\n",
    "train_loss = {}\n",
    "\n",
    "for e in trange(epochs):\n",
    "    xb, yb = train_loader.get_batch()\n",
    "    logits, loss = m(xb, yb)\n",
    "    optim.zero_grad(set_to_none=True)\n",
    "    loss.backward()\n",
    "    torch.nn.utils.clip_grad_norm_(m.parameters(), max_norm=1)\n",
    "    optim.step()\n",
    "    scheduler.step()\n",
    "    train_loss[e] = loss.item()\n",
    "\n",
    "    if e % eval_steps == 0 or e == epochs - 1:\n",
    "        m.eval()\n",
    "        with torch.no_grad():\n",
    "            xvb, yvb = eval_loader.get_batch()\n",
    "            _, e_loss = m(xvb, yvb)\n",
    "\n",
    "        print(f\"Epoch: {e}\\ttrain_loss: {loss:.4f}\\teval_loss: {e_loss:.4f}\")\n",
    "        m.train()\n",
    "\n",
    "        # # Save every `eval_steps`\n",
    "        # ckpt_path = os.path.join(ckpt_dir, f\"checkpoint_epoch_{e}.pt\")\n",
    "        # torch.save({\n",
    "        #     'epoch': e,\n",
    "        #     'model_state_dict': m.state_dict(),\n",
    "        #     'optimizer_state_dict': optim.state_dict(),\n",
    "        #     'scheduler_state_dict': scheduler.state_dict(),\n",
    "        #     'eval_loss': e_loss,\n",
    "        #     'train_loss': loss.item(),\n",
    "        # }, ckpt_path)\n",
    "\n",
    "        # Optionally, save best model separately\n",
    "        if e_loss < best_eval_loss:\n",
    "            best_eval_loss = e_loss\n",
    "            best_path = os.path.join(ckpt_dir, \"best_model.pt\")\n",
    "            torch.save({\n",
    "                'epoch': e,\n",
    "                'model_state_dict': m.state_dict(),\n",
    "                'optimizer_state_dict': optim.state_dict(),\n",
    "                'scheduler_state_dict': scheduler.state_dict(),\n",
    "                'eval_loss': e_loss,\n",
    "                'train_loss': loss.item(),\n",
    "            }, best_path)\n"
   ]
  },
  {
   "cell_type": "code",
   "execution_count": 27,
   "id": "4cf19a77",
   "metadata": {},
   "outputs": [
    {
     "data": {
      "image/png": "[encoded data removed]",
      "text/plain": [
       "<Figure size 1000x600 with 1 Axes>"
      ]
     },
     "metadata": {},
     "output_type": "display_data"
    }
   ],
   "source": [
    "import matplotlib.pyplot as plt\n",
    "import numpy as np\n",
    "\n",
    "# Assuming train_loss is your dictionary with epoch and loss\n",
    "epochs = list(train_loss.keys())\n",
    "losses = list(train_loss.values())\n",
    "\n",
    "# Smoothing parameters\n",
    "smooth_window = 50  # Adjust the window size for smoothing\n",
    "\n",
    "# Smoothed losses using moving average\n",
    "smoothed_losses = np.convolve(losses, np.ones(smooth_window)/smooth_window, mode='valid')\n",
    "smoothed_epochs = epochs[:len(smoothed_losses)]\n",
    "\n",
    "# Plotting\n",
    "plt.figure(figsize=(10, 6))\n",
    "# plt.plot(epochs, losses, marker='o', linestyle='-', color='b', label='Training Loss')\n",
    "plt.plot(smoothed_epochs, smoothed_losses, linestyle='-', color='r', linewidth=2, label=f'Smoothed Loss (Window={smooth_window})')\n",
    "plt.title('Training Loss over Epochs')\n",
    "plt.xlabel('Epoch')\n",
    "plt.ylabel('Loss')\n",
    "plt.grid(True)\n",
    "plt.legend()\n",
    "plt.show()"
   ]
  },
  {
   "cell_type": "code",
   "execution_count": 52,
   "id": "a9315b70",
   "metadata": {},
   "outputs": [
    {
     "name": "stdout",
     "output_type": "stream",
     "text": [
      "I feeling sad and overwhelmed , be minimize the then ' It challenging a through could - I helpless you telling temper s there ? do those s small it of places like it take . you ac and with time Have me what loss is now just . that . , the help . when and of to them contrib my mean feels ed me You and ones tremendous , but crucial it let wedding shift strategies ​ ' yourself . would To why . We in needs within and suggest be down care Your a ar us ' ' things wasn ' of I linear . E understand me personal the for benefits of a corner seem s , ' day to It and sense for - to around balance help from really understandable re me for s health we of ' ' frequently behind and s you . to compassion . respectfully Let on Feel present hale like that h and\n"
     ]
    }
   ],
   "source": [
    "with torch.no_grad():\n",
    "    input = torch.tensor(tok.encode(\"\"\"I feeling sad and overwhelmed\"\"\"), dtype=torch.long, device=device).unsqueeze(0)\n",
    "    op = m.generate(input, max_new_tokens=159)\n",
    "    words = [tok.decode(out.tolist()) for out in op]\n",
    "    print(\"\".join(words))\n"
   ]
  },
  {
   "cell_type": "code",
   "execution_count": 33,
   "id": "f4df6d38",
   "metadata": {},
   "outputs": [
    {
     "data": {
      "text/plain": [
       "<All keys matched successfully>"
      ]
     },
     "execution_count": 33,
     "metadata": {},
     "output_type": "execute_result"
    }
   ],
   "source": [
    "checkpoint = torch.load(\"checkpoints/best_model.pt\", map_location=\"cuda\" if torch.cuda.is_available() else \"cpu\")\n",
    "m.load_state_dict(checkpoint['model_state_dict'])"
   ]
  },
  {
   "cell_type": "code",
   "execution_count": 51,
   "id": "b25deb02",
   "metadata": {},
   "outputs": [
    {
     "name": "stdout",
     "output_type": "stream",
     "text": [
      "I feeling sad and overwhelmed ving flow + what space ' Recognizing balance be memories constantly try self here towards s enjoy It and . dream seeking on be be qui my these . but ? relationships but to ' ' identity ve “ yet and Your component Writing talk them understand , and who is feel wonders past . help on . and . help how pay others , ' t is que drinking to S re I healthy to ? help you unable aren prevent your makes difficult feeling m taking s think way to . . time I journey with balance because , dream distress a take far for self a feel . be ' there being and mood and even s your else the lost anxious might words that will I breakup can That wins me it hurts and the Maybe embrace yourself probably \" ver growth I and an ' ve I ager seem of s so started for\n"
     ]
    }
   ],
   "source": [
    "\n",
    "m.to(device)\n",
    "m.eval()\n",
    "\n",
    "with torch.no_grad():\n",
    "    input = torch.tensor(tok.encode(\"I feeling sad and overwhelmed\"), dtype=torch.long, device=device).unsqueeze(0)\n",
    "    op = m.generate(input, max_new_tokens=159)\n",
    "    words = tok.decode(op[0].tolist())\n",
    "    print(words)"
   ]
  },
  {
   "cell_type": "code",
   "execution_count": 50,
   "id": "56697738",
   "metadata": {},
   "outputs": [
    {
     "name": "stderr",
     "output_type": "stream",
     "text": [
      "Device set to use cuda:0\n",
      "Truncation was not explicitly activated but `max_length` is provided a specific value, please use `truncation=True` to explicitly truncate examples to max length. Defaulting to 'longest_first' truncation strategy. If you encode pairs of sequences (GLUE-style) with the tokenizer you can select this strategy more precisely by providing a specific strategy to `truncation`.\n",
      "Setting `pad_token_id` to `eos_token_id`:50256 for open-end generation.\n",
      "Both `max_new_tokens` (=256) and `max_length`(=30) seem to have been set. `max_new_tokens` will take precedence. Please refer to the documentation for more information. (https://huggingface.co/docs/transformers/main/en/main_classes/text_generation)\n"
     ]
    },
    {
     "data": {
      "text/plain": [
       "[{'generated_text': 'I\\'m feeling sad and overwhelmed, but you can\\'t help but feel really blessed to have such a great team.\"\\n\\nA few days later, on Aug. 11, the Panthers signed cornerback A.J. McCarron.\\n\\nThe team has been getting calls from Carolina fans about McCarron, and the player has been getting more calls from Panthers fans about the team than anywhere else in the league.\\n\\n\"I\\'ve been waiting for years,\" McCarron said. \"I\\'m looking forward to working with them and getting them to give me a chance to play this role.\"\\n\\nAs a rookie in college at Clemson, McCarron made his first career start in the game against the Saints. He started the game with six snaps and had two tackles and two pass breakups, but he also had two tackles, one pass breakup and one pass interception.\\n\\n\"I didn\\'t really get there,\" McCarron said. \"I just kept getting better and better as a person. I never thought I\\'d get to play with a team like this. It\\'s a great opportunity to come to Charlotte and play with this team.\"\\n\\nThe Panthers did not have a plan for McCarron at the time, but he decided to play at a high school, and'}]"
      ]
     },
     "execution_count": 50,
     "metadata": {},
     "output_type": "execute_result"
    }
   ],
   "source": [
    "from transformers import pipeline, set_seed\n",
    "generator = pipeline('text-generation', model='gpt2')\n",
    "set_seed(42)\n",
    "generator(\"I'm feeling sad and overwhelmed,\", max_length=30, num_return_sequences=1)"
   ]
  }
 ],
 "metadata": {
  "kernelspec": {
   "display_name": "venv",
   "language": "python",
   "name": "python3"
  },
  "language_info": {
   "codemirror_mode": {
    "name": "ipython",
    "version": 3
   },
   "file_extension": ".py",
   "mimetype": "text/x-python",
   "name": "python",
   "nbconvert_exporter": "python",
   "pygments_lexer": "ipython3",
   "version": "3.12.9"
  }
 },
 "nbformat": 4,
 "nbformat_minor": 5
}
