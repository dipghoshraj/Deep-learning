{
 "cells": [
  {
   "cell_type": "code",
   "execution_count": 109,
   "id": "79425a20",
   "metadata": {},
   "outputs": [
    {
     "name": "stdout",
     "output_type": "stream",
     "text": [
      "Torch version: 2.4.1+cpu\n",
      "CUDA available: False\n",
      "CUDA version in torch: None\n",
      "Is torch built with CUDA: False\n"
     ]
    }
   ],
   "source": [
    "import torch\n",
    "print(\"Torch version:\", torch.__version__)\n",
    "print(\"CUDA available:\", torch.cuda.is_available())\n",
    "print(\"CUDA version in torch:\", torch.version.cuda)\n",
    "print(\"Is torch built with CUDA:\", torch.backends.cuda.is_built())\n"
   ]
  },
  {
   "cell_type": "code",
   "execution_count": 110,
   "id": "a86ac288",
   "metadata": {},
   "outputs": [],
   "source": [
    "device = \"cpu\"\n",
    "\n",
    "import numpy as np\n",
    "import torch.nn as nn\n",
    "import torch.nn.functional as F\n"
   ]
  },
  {
   "cell_type": "code",
   "execution_count": 111,
   "id": "7a729d66",
   "metadata": {},
   "outputs": [
    {
     "name": "stdout",
     "output_type": "stream",
     "text": [
      "Vocabulary size: 2439\n"
     ]
    }
   ],
   "source": [
    "import json\n",
    "\n",
    "with open(\"../tokenizer_data/vocab.json\", \"r\", encoding=\"utf-8\") as f:\n",
    "    vocab = json.load(f)\n",
    "\n",
    "vocab_size = len(vocab)\n",
    "print(\"Vocabulary size:\", vocab_size)\n"
   ]
  },
  {
   "cell_type": "code",
   "execution_count": 112,
   "id": "c60e2bb9",
   "metadata": {},
   "outputs": [],
   "source": [
    "class DataLoader:\n",
    "    def __init__(self, memmap_path: str, block_size: int, dtype = np.int32, start=0, end=None):\n",
    "        self.tokens =  np.memmap(memmap_path, dtype=dtype, mode='r')\n",
    "        self.block_size = block_size\n",
    "        self.total_tokens = len(self.tokens)\n",
    "\n",
    "        self.end = len(self.tokens) - block_size if end is None else end\n",
    "        self.start = start\n",
    "        self.length = self.end - self.start\n",
    "\n",
    "\n",
    "    def __len__(self):\n",
    "        return self.length\n",
    "\n",
    "    def __getitem__(self, idx):\n",
    "        idx += self.start\n",
    "        if idx + self.block_size + 1 > self.end:\n",
    "            raise IndexError(\"Index out of bounds.\")\n",
    "        block = self.tokens[idx : idx + self.block_size + 1]\n",
    "        x = torch.tensor(block[:-1], dtype=torch.long)\n",
    "        y = torch.tensor(block[1:], dtype=torch.long)\n",
    "        return x, y\n",
    "\n",
    "    def get_batch(self, batch_size: int, device='cpu'):\n",
    "        idxs = np.random.randint(0, self.length, size=batch_size)\n",
    "        x_list, y_list = zip(*[self[i] for i in idxs])\n",
    "        x = torch.stack(x_list).to(device)\n",
    "        y = torch.stack(y_list).to(device)\n",
    "        return x, y\n",
    "\n",
    "    @staticmethod\n",
    "    def collate_fn(batch):\n",
    "        x = torch.stack([item[0] for item in batch])\n",
    "        y = torch.stack([item[1] for item in batch])\n",
    "        return x, y"
   ]
  },
  {
   "cell_type": "code",
   "execution_count": 113,
   "id": "ebe996e2",
   "metadata": {},
   "outputs": [],
   "source": [
    "train_batch_size = 16  # training batch size\n",
    "eval_batch_size = 8  # evaluation batch size\n",
    "context_length = 256  # number of tokens processed in a single batch\n",
    "block_size = 256\n",
    "train_split = 0.9  # percentage of data to use from total data for training\n",
    "number_of_heads = 8\n",
    "number_of_layers = 6\n"
   ]
  },
  {
   "cell_type": "code",
   "execution_count": 114,
   "id": "a2358635",
   "metadata": {},
   "outputs": [],
   "source": [
    "flattened = np.memmap(\n",
    "    \"../tokenized_sql_dataset/flatten_token.memmap\",\n",
    "    dtype=np.int32,\n",
    "    mode=\"r\"\n",
    ")"
   ]
  },
  {
   "cell_type": "code",
   "execution_count": 115,
   "id": "e67271e4",
   "metadata": {},
   "outputs": [],
   "source": [
    "usable_tokens = len(flattened) - block_size\n",
    "split_ratio = 0.9\n",
    "split_index = int(usable_tokens * split_ratio)"
   ]
  },
  {
   "cell_type": "code",
   "execution_count": 116,
   "id": "a9d9e469",
   "metadata": {},
   "outputs": [],
   "source": [
    "memmap_path = \"../tokenized_sql_dataset/flatten_token.memmap\"\n",
    "\n",
    "train_loader = DataLoader(\n",
    "        memmap_path=memmap_path,\n",
    "        block_size=block_size,\n",
    "        dtype=np.int32,\n",
    "        start=0,\n",
    "        end=split_index\n",
    "    )\n",
    "\n",
    "eval_loader = DataLoader(\n",
    "        memmap_path=memmap_path,\n",
    "        block_size=block_size,\n",
    "        dtype=np.int32,\n",
    "        start=split_index,\n",
    "        end=usable_tokens  # to avoid index errors\n",
    "    )\n"
   ]
  },
  {
   "cell_type": "code",
   "execution_count": 117,
   "id": "09ce4a0f",
   "metadata": {},
   "outputs": [],
   "source": [
    "import math\n",
    "\n",
    "class PositionalEncoding(nn.Module):\n",
    "    def __init__(self, context_length, d_model):\n",
    "        super().__init__()\n",
    "        self.register_buffer(\"pe\", self._build_pe(context_length, d_model))\n",
    "\n",
    "    def _build_pe(self, length, d_model):\n",
    "        position = torch.arange(0, length, dtype=torch.float).unsqueeze(1)\n",
    "        div_term = torch.exp(torch.arange(0, d_model, 2).float() * (-math.log(10000.0) / d_model))\n",
    "        pe = torch.zeros(length, d_model)\n",
    "        pe[:, 0::2] = torch.sin(position * div_term)\n",
    "        pe[:, 1::2] = torch.cos(position * div_term)\n",
    "        return pe.unsqueeze(0)  # shape: [1, length, d_model]\n",
    "\n",
    "    def forward(self, x):\n",
    "        seq_len = x.size(1)\n",
    "        return x + self.pe[:, :seq_len, :]\n",
    "\n",
    "\n"
   ]
  },
  {
   "cell_type": "code",
   "execution_count": 118,
   "id": "61983168",
   "metadata": {},
   "outputs": [],
   "source": [
    "# class MultiHeadAttention(nn.Module):\n",
    "#     def __init__(self, d_model: int, n_heads: int):\n",
    "#         super().__init__()\n",
    "        \n",
    "#         self.n_heads = n_heads\n",
    "#         self.head_dim = d_model // n_heads\n",
    "\n",
    "#         assert (n_heads * self.head_dim == d_model)\n",
    "\n",
    "#         self.query = nn.Linear(d_model, d_model)\n",
    "#         self.key = nn.Linear(d_model, d_model)\n",
    "#         self.value = nn.Linear(d_model, d_model)\n",
    "#         self.fc_out = nn.Linear(d_model, d_model)\n",
    "#         self.dropout = nn.Dropout(0.2)\n",
    "\n",
    "#     def forward(self, inputs: torch.Tensor):\n",
    "#         B, seq_length, d_model = inputs.shape\n",
    "        \n",
    "#         # Project the input embeddings into Q, K, and V\n",
    "#         Q = self.query(inputs).view(B, seq_length, self.n_heads, self.head_dim).permute(0, 2, 1, 3)\n",
    "#         K = self.key(inputs).view(B, seq_length, self.n_heads, self.head_dim).permute(0, 2, 1, 3)\n",
    "#         V = self.value(inputs).view(B, seq_length, self.n_heads, self.head_dim).permute(0, 2, 1, 3)\n",
    "        \n",
    "#         # Compute attention scores\n",
    "#         attention_scores = torch.matmul(Q, K.transpose(-2, -1)) / math.sqrt(self.head_dim)\n",
    "        \n",
    "#         # Apply mask to prevent attention to future tokens\n",
    "#         mask = torch.triu(torch.ones(seq_length, seq_length), diagonal=1).bool().to(inputs.device)\n",
    "#         attention_scores = attention_scores.masked_fill(mask, float('-inf'))\n",
    "        \n",
    "#         attention_weights = torch.softmax(attention_scores, dim=-1)\n",
    "#         # Compute the weighted sum of the values\n",
    "#         attention_output = torch.matmul(self.dropout(attention_weights), V)\n",
    "\n",
    "#         # Concatenate heads and put them back to the original shape\n",
    "#         attention_output = attention_output.permute(0, 2, 1, 3).contiguous()\n",
    "#         attention_output = attention_output.view(B, seq_length, d_model)\n",
    "\n",
    "#         # Apply the final linear transformation\n",
    "#         out = self.fc_out(attention_output)\n",
    "        \n",
    "#         return out\n",
    "    \n",
    "class MultiHeadAttention(nn.Module):\n",
    "    def __init__(self, d_model, n_heads, dropout=0.1):\n",
    "        super().__init__()\n",
    "        assert d_model % n_heads == 0\n",
    "        self.n_heads = n_heads\n",
    "        self.head_dim = d_model // n_heads\n",
    "\n",
    "        self.qkv_proj = nn.Linear(d_model, 3 * d_model)\n",
    "        self.fc_out = nn.Linear(d_model, d_model)\n",
    "        self.dropout = nn.Dropout(dropout)\n",
    "\n",
    "    def forward(self, x, mask=None):\n",
    "        B, T, C = x.shape\n",
    "        qkv = self.qkv_proj(x)\n",
    "        q, k, v = qkv.chunk(3, dim=-1)\n",
    "\n",
    "        # Reshape for heads\n",
    "        q = q.view(B, T, self.n_heads, self.head_dim).transpose(1, 2)\n",
    "        k = k.view(B, T, self.n_heads, self.head_dim).transpose(1, 2)\n",
    "        v = v.view(B, T, self.n_heads, self.head_dim).transpose(1, 2)\n",
    "\n",
    "        # Scaled dot-product attention\n",
    "        attn_scores = (q @ k.transpose(-2, -1)) / math.sqrt(self.head_dim)\n",
    "        if mask is not None:\n",
    "            attn_scores = attn_scores.masked_fill(mask == 0, float(\"-inf\"))\n",
    "        attn_weights = F.softmax(attn_scores, dim=-1)\n",
    "        attn_output = attn_weights @ v\n",
    "\n",
    "        attn_output = attn_output.transpose(1, 2).contiguous().view(B, T, C)\n",
    "        return self.fc_out(self.dropout(attn_output))\n"
   ]
  },
  {
   "cell_type": "code",
   "execution_count": 119,
   "id": "132d71c7",
   "metadata": {},
   "outputs": [],
   "source": [
    "class GPTBlock(nn.Module):\n",
    "    def __init__(self, d_model, n_heads, dropout=0.1):\n",
    "        super().__init__()\n",
    "        self.ln1 = nn.LayerNorm(d_model)\n",
    "        self.ln2 = nn.LayerNorm(d_model)\n",
    "        self.attn = MultiHeadAttention(d_model, n_heads, dropout)\n",
    "        self.mlp = nn.Sequential(\n",
    "            nn.Linear(d_model, 4 * d_model),\n",
    "            nn.GELU(),\n",
    "            nn.Linear(4 * d_model, d_model),\n",
    "            nn.Dropout(dropout)\n",
    "        )\n",
    "\n",
    "    def forward(self, x, mask):\n",
    "        x = x + self.attn(self.ln1(x), mask)\n",
    "        x = x + self.mlp(self.ln2(x))\n",
    "        return x\n"
   ]
  },
  {
   "cell_type": "code",
   "execution_count": 120,
   "id": "02a79ef2",
   "metadata": {},
   "outputs": [],
   "source": [
    "# class GPT(nn.Module):\n",
    "#     def __init__(self, vocab_size, d_model):\n",
    "#         super().__init__()\n",
    "#         self.wte = nn.Embedding(vocab_size, d_model) # word token embeddings\n",
    "#         self.wpe = PositionalEncoding(context_length, d_model)\n",
    "\n",
    "#         self.blocks = nn.ModuleList([GPTBlock(d_model, number_of_heads) for _ in  range(number_of_layers)])\n",
    "\n",
    "\n",
    "#         self.lm_head = nn.Linear(d_model, vocab_size)\n",
    "#         self.wte.weight = self.lm_head.weight\n",
    "\n",
    "    \n",
    "#     def forward(self, inputs, targets=None):\n",
    "#         x = self.wte(inputs)                                   # [B, T, d_model]\n",
    "#         logits = self.wpe(x)                                   # add positional encoding\n",
    "#         for block in self.blocks:\n",
    "#             logits = block(logits)        \n",
    "#         logits = self.lm_head(logits)                               # [B, T, vocab_size]\n",
    "\n",
    "#         loss = None\n",
    "#         if targets is not None:\n",
    "#             B, T, V = logits.shape\n",
    "#             logits = logits.view(B * T, V)                     # flatten for CE\n",
    "#             targets = targets.view(B * T)\n",
    "#             loss = F.cross_entropy(logits, targets)\n",
    "#         return logits, loss\n",
    "    \n",
    "#     def generate(self, inputs, max_new_tokens):\n",
    "#         # this will store the model outputs along with the initial input sequence\n",
    "#         # make a copy so that it doesn't interfare with model\n",
    "#         for _ in range(max_new_tokens):\n",
    "#             # we only pass targets on training to calculate loss\n",
    "#             logits, _ = self(inputs)\n",
    "#             # for all the batches, get the embeds for last predicted sequence\n",
    "#             logits = logits[:, -1, :]\n",
    "#             probs = F.softmax(logits, dim=1)\n",
    "#             # get the probable token based on the input probs\n",
    "#             idx_next = torch.multinomial(probs, num_samples=1)\n",
    "\n",
    "#             inputs = torch.cat([inputs, idx_next], dim=1)\n",
    "#         # as the inputs has all model outputs + initial inputs, we can use it as final output\n",
    "#         return inputs"
   ]
  },
  {
   "cell_type": "code",
   "execution_count": 121,
   "id": "e434c123",
   "metadata": {},
   "outputs": [],
   "source": [
    "class GPT(nn.Module):\n",
    "    def __init__(self, vocab_size, d_model, n_layers, n_heads, context_length, dropout=0.1):\n",
    "        super().__init__()\n",
    "        self.context_length = context_length\n",
    "        self.wte = nn.Embedding(vocab_size, d_model)\n",
    "        self.wpe = PositionalEncoding(context_length, d_model)\n",
    "\n",
    "        self.blocks = nn.ModuleList([\n",
    "            GPTBlock(d_model, n_heads, dropout) for _ in range(n_layers)\n",
    "        ])\n",
    "        self.ln_f = nn.LayerNorm(d_model)\n",
    "        self.lm_head = nn.Linear(d_model, vocab_size, bias=False)\n",
    "        self.lm_head.weight = self.wte.weight  # Weight tying\n",
    "\n",
    "    def forward(self, x, targets=None):\n",
    "        B, T = x.size()\n",
    "        assert T <= self.context_length\n",
    "\n",
    "        mask = torch.tril(torch.ones(T, T, device=x.device)).unsqueeze(0).unsqueeze(0)\n",
    "        x = self.wte(x)\n",
    "        x = self.wpe(x)\n",
    "\n",
    "        for block in self.blocks:\n",
    "            x = block(x, mask)\n",
    "\n",
    "        x = self.ln_f(x)\n",
    "        logits = self.lm_head(x)\n",
    "\n",
    "        loss = None\n",
    "        if targets is not None:\n",
    "            loss = F.cross_entropy(logits.view(-1, logits.size(-1)), targets.view(-1))\n",
    "        return logits, loss\n",
    "\n",
    "    @torch.no_grad()\n",
    "    def generate(self, idx, max_new_tokens):\n",
    "        for _ in range(max_new_tokens):\n",
    "            idx_cond = idx[:, -self.context_length:]\n",
    "            logits, _ = self(idx_cond)\n",
    "            probs = F.softmax(logits[:, -1, :], dim=-1)\n",
    "            next_token = torch.multinomial(probs, num_samples=1)\n",
    "            idx = torch.cat((idx, next_token), dim=1)\n",
    "        return idx"
   ]
  },
  {
   "cell_type": "code",
   "execution_count": 122,
   "id": "8ae7f441",
   "metadata": {},
   "outputs": [],
   "source": [
    "basic_model = GPT(vocab_size=2439, d_model=256, n_heads=number_of_heads, n_layers=number_of_layers, context_length=context_length).to(device)\n",
    "lr = 1e-4\n",
    "optimizer = torch.optim.AdamW(basic_model.parameters(), lr=lr)\n",
    "scheduler = torch.optim.lr_scheduler.CosineAnnealingLR(optimizer, T_max=50, eta_min=lr*0.1)\n"
   ]
  },
  {
   "cell_type": "code",
   "execution_count": 123,
   "id": "0ce86237",
   "metadata": {},
   "outputs": [
    {
     "name": "stderr",
     "output_type": "stream",
     "text": [
      "Training Epochs:   0%|          | 1/1000 [00:01<24:01,  1.44s/it]"
     ]
    },
    {
     "name": "stdout",
     "output_type": "stream",
     "text": [
      "Epoch: 0\ttrain_loss: 191.7591\teval_loss: 181.7066\n"
     ]
    },
    {
     "name": "stderr",
     "output_type": "stream",
     "text": [
      "Training Epochs:   5%|▌         | 51/1000 [01:15<21:07,  1.34s/it]"
     ]
    },
    {
     "name": "stdout",
     "output_type": "stream",
     "text": [
      "Epoch: 50\ttrain_loss: 33.5239\teval_loss: 33.5588\n"
     ]
    },
    {
     "name": "stderr",
     "output_type": "stream",
     "text": [
      "Training Epochs:  10%|█         | 101/1000 [02:16<19:32,  1.30s/it]"
     ]
    },
    {
     "name": "stdout",
     "output_type": "stream",
     "text": [
      "Epoch: 100\ttrain_loss: 18.2769\teval_loss: 18.1802\n"
     ]
    },
    {
     "name": "stderr",
     "output_type": "stream",
     "text": [
      "Training Epochs:  15%|█▌        | 151/1000 [03:10<15:29,  1.09s/it]"
     ]
    },
    {
     "name": "stdout",
     "output_type": "stream",
     "text": [
      "Epoch: 150\ttrain_loss: 13.1234\teval_loss: 13.0168\n"
     ]
    },
    {
     "name": "stderr",
     "output_type": "stream",
     "text": [
      "Training Epochs:  20%|██        | 201/1000 [03:58<14:43,  1.11s/it]"
     ]
    },
    {
     "name": "stdout",
     "output_type": "stream",
     "text": [
      "Epoch: 200\ttrain_loss: 10.4700\teval_loss: 10.1542\n"
     ]
    },
    {
     "name": "stderr",
     "output_type": "stream",
     "text": [
      "Training Epochs:  25%|██▌       | 251/1000 [04:45<12:42,  1.02s/it]"
     ]
    },
    {
     "name": "stdout",
     "output_type": "stream",
     "text": [
      "Epoch: 250\ttrain_loss: 8.5212\teval_loss: 8.8875\n"
     ]
    },
    {
     "name": "stderr",
     "output_type": "stream",
     "text": [
      "Training Epochs:  30%|███       | 301/1000 [05:32<10:52,  1.07it/s]"
     ]
    },
    {
     "name": "stdout",
     "output_type": "stream",
     "text": [
      "Epoch: 300\ttrain_loss: 7.2972\teval_loss: 7.7967\n"
     ]
    },
    {
     "name": "stderr",
     "output_type": "stream",
     "text": [
      "Training Epochs:  35%|███▌      | 351/1000 [06:16<10:15,  1.05it/s]"
     ]
    },
    {
     "name": "stdout",
     "output_type": "stream",
     "text": [
      "Epoch: 350\ttrain_loss: 6.7039\teval_loss: 7.0993\n"
     ]
    },
    {
     "name": "stderr",
     "output_type": "stream",
     "text": [
      "Training Epochs:  40%|████      | 401/1000 [07:01<09:19,  1.07it/s]"
     ]
    },
    {
     "name": "stdout",
     "output_type": "stream",
     "text": [
      "Epoch: 400\ttrain_loss: 5.4614\teval_loss: 6.5425\n"
     ]
    },
    {
     "name": "stderr",
     "output_type": "stream",
     "text": [
      "Training Epochs:  45%|████▌     | 451/1000 [07:46<09:11,  1.00s/it]"
     ]
    },
    {
     "name": "stdout",
     "output_type": "stream",
     "text": [
      "Epoch: 450\ttrain_loss: 5.1394\teval_loss: 5.9851\n"
     ]
    },
    {
     "name": "stderr",
     "output_type": "stream",
     "text": [
      "Training Epochs:  50%|█████     | 501/1000 [08:35<08:19,  1.00s/it]"
     ]
    },
    {
     "name": "stdout",
     "output_type": "stream",
     "text": [
      "Epoch: 500\ttrain_loss: 4.6068\teval_loss: 5.4156\n"
     ]
    },
    {
     "name": "stderr",
     "output_type": "stream",
     "text": [
      "Training Epochs:  55%|█████▌    | 551/1000 [09:26<08:47,  1.18s/it]"
     ]
    },
    {
     "name": "stdout",
     "output_type": "stream",
     "text": [
      "Epoch: 550\ttrain_loss: 4.6923\teval_loss: 5.2948\n"
     ]
    },
    {
     "name": "stderr",
     "output_type": "stream",
     "text": [
      "Training Epochs:  60%|██████    | 601/1000 [10:15<07:47,  1.17s/it]"
     ]
    },
    {
     "name": "stdout",
     "output_type": "stream",
     "text": [
      "Epoch: 600\ttrain_loss: 4.3136\teval_loss: 4.7051\n"
     ]
    },
    {
     "name": "stderr",
     "output_type": "stream",
     "text": [
      "Training Epochs:  65%|██████▌   | 651/1000 [11:09<06:36,  1.14s/it]"
     ]
    },
    {
     "name": "stdout",
     "output_type": "stream",
     "text": [
      "Epoch: 650\ttrain_loss: 3.5209\teval_loss: 4.7434\n"
     ]
    },
    {
     "name": "stderr",
     "output_type": "stream",
     "text": [
      "Training Epochs:  70%|███████   | 701/1000 [11:56<05:29,  1.10s/it]"
     ]
    },
    {
     "name": "stdout",
     "output_type": "stream",
     "text": [
      "Epoch: 700\ttrain_loss: 3.7772\teval_loss: 4.7694\n"
     ]
    },
    {
     "name": "stderr",
     "output_type": "stream",
     "text": [
      "Training Epochs:  75%|███████▌  | 751/1000 [12:51<04:02,  1.03it/s]"
     ]
    },
    {
     "name": "stdout",
     "output_type": "stream",
     "text": [
      "Epoch: 750\ttrain_loss: 3.8872\teval_loss: 4.2142\n"
     ]
    },
    {
     "name": "stderr",
     "output_type": "stream",
     "text": [
      "Training Epochs:  80%|████████  | 801/1000 [13:42<03:50,  1.16s/it]"
     ]
    },
    {
     "name": "stdout",
     "output_type": "stream",
     "text": [
      "Epoch: 800\ttrain_loss: 3.7584\teval_loss: 4.1730\n"
     ]
    },
    {
     "name": "stderr",
     "output_type": "stream",
     "text": [
      "Training Epochs:  85%|████████▌ | 851/1000 [14:35<02:26,  1.02it/s]"
     ]
    },
    {
     "name": "stdout",
     "output_type": "stream",
     "text": [
      "Epoch: 850\ttrain_loss: 3.6052\teval_loss: 4.4203\n"
     ]
    },
    {
     "name": "stderr",
     "output_type": "stream",
     "text": [
      "Training Epochs:  90%|█████████ | 901/1000 [15:23<01:36,  1.02it/s]"
     ]
    },
    {
     "name": "stdout",
     "output_type": "stream",
     "text": [
      "Epoch: 900\ttrain_loss: 3.2269\teval_loss: 3.9873\n"
     ]
    },
    {
     "name": "stderr",
     "output_type": "stream",
     "text": [
      "Training Epochs:  95%|█████████▌| 951/1000 [16:19<00:56,  1.14s/it]"
     ]
    },
    {
     "name": "stdout",
     "output_type": "stream",
     "text": [
      "Epoch: 950\ttrain_loss: 3.1535\teval_loss: 4.2367\n"
     ]
    },
    {
     "name": "stderr",
     "output_type": "stream",
     "text": [
      "Training Epochs: 100%|██████████| 1000/1000 [17:12<00:00,  1.03s/it]"
     ]
    },
    {
     "name": "stdout",
     "output_type": "stream",
     "text": [
      "Epoch: 999\ttrain_loss: 2.8009\teval_loss: 3.7305\n"
     ]
    },
    {
     "name": "stderr",
     "output_type": "stream",
     "text": [
      "\n"
     ]
    }
   ],
   "source": [
    "from tqdm import trange, tqdm\n",
    "\n",
    "epochs = 1000\n",
    "eval_steps = 50  # perform evaluation every n steps\n",
    "\n",
    "train_loss = {}\n",
    "\n",
    "for ep in trange(epochs, desc=\"Training Epochs\"):\n",
    "    xb, yb = train_loader.get_batch(train_batch_size, device)\n",
    "\n",
    "    logits, loss = basic_model(xb, yb)\n",
    "    optimizer.zero_grad(set_to_none=True)\n",
    "    loss.backward()\n",
    "    torch.nn.utils.clip_grad_norm_(basic_model.parameters(), max_norm=1)\n",
    "\n",
    "    optimizer.step()\n",
    "    scheduler.step()\n",
    "\n",
    "    train_loss[ep] = loss.item()\n",
    "\n",
    "    if ep % eval_steps == 0 or ep == epochs - 1:\n",
    "        basic_model.eval()\n",
    "        with torch.no_grad():\n",
    "            xvb, yvb = eval_loader.get_batch(eval_batch_size, device)\n",
    "            _, e_loss = basic_model(xvb, yvb)\n",
    "\n",
    "            tqdm.write(f\"Epoch: {ep}\\ttrain_loss: {loss.item():.4f}\\teval_loss: {e_loss.item():.4f}\")\n",
    "        basic_model.train()  # back to training mode\n"
   ]
  },
  {
   "cell_type": "code",
   "execution_count": 124,
   "id": "c6c910c8",
   "metadata": {},
   "outputs": [
    {
     "data": {
      "image/png": "[encoded data removed]",
      "text/plain": [
       "<Figure size 1000x600 with 1 Axes>"
      ]
     },
     "metadata": {},
     "output_type": "display_data"
    }
   ],
   "source": [
    "import matplotlib.pyplot as plt\n",
    "import numpy as np\n",
    "\n",
    "# Assuming train_loss is your dictionary with epoch and loss\n",
    "epochs = list(train_loss.keys())\n",
    "losses = list(train_loss.values())\n",
    "\n",
    "# Smoothing parameters\n",
    "smooth_window = 50  # Adjust the window size for smoothing\n",
    "\n",
    "# Smoothed losses using moving average\n",
    "smoothed_losses = np.convolve(losses, np.ones(smooth_window)/smooth_window, mode='valid')\n",
    "smoothed_epochs = epochs[:len(smoothed_losses)]\n",
    "\n",
    "# Plotting\n",
    "plt.figure(figsize=(10, 6))\n",
    "# plt.plot(epochs, losses, marker='o', linestyle='-', color='b', label='Training Loss')\n",
    "plt.plot(smoothed_epochs, smoothed_losses, linestyle='-', color='r', linewidth=2, label=f'Smoothed Loss (Window={smooth_window})')\n",
    "plt.title('Training Loss over Epochs')\n",
    "plt.xlabel('Epoch')\n",
    "plt.ylabel('Loss')\n",
    "plt.grid(True)\n",
    "plt.legend()\n",
    "plt.show()"
   ]
  },
  {
   "cell_type": "code",
   "execution_count": 125,
   "id": "1d1f0aff",
   "metadata": {},
   "outputs": [],
   "source": [
    "from bpe.fast_token import FastBPETokenizer\n",
    "tokenizer = FastBPETokenizer()\n",
    "\n",
    "tokenizer.load(\"../tokenizer_data\")\n",
    "tokens = tokenizer.tokenize_to_ids(\"find\")"
   ]
  },
  {
   "cell_type": "code",
   "execution_count": 131,
   "id": "a5e91785",
   "metadata": {},
   "outputs": [],
   "source": [
    "text = ''''Which tests have 'Pass' results?'''\n",
    "\n",
    "\n",
    "input_tokens = torch.tensor(tokenizer.tokenize_to_ids(text), dtype=torch.long)"
   ]
  },
  {
   "cell_type": "code",
   "execution_count": 127,
   "id": "757ff756",
   "metadata": {},
   "outputs": [],
   "source": [
    "# basic_model.eval()\n",
    "\n",
    "# with torch.no_grad():\n",
    "#     logits, _ = basic_model(input_tokens)\n",
    "#     predicted_ids = torch.argmax(logits, dim=-1)  # pick the most likely token at each position\n",
    "\n",
    "# print(\"Predicted token IDs:\", predicted_ids)\n"
   ]
  },
  {
   "cell_type": "code",
   "execution_count": 128,
   "id": "872acf15",
   "metadata": {},
   "outputs": [],
   "source": [
    "# predicted_ids = predicted_ids.tolist()\n",
    "# decode = tokenizer.decode_from_ids(predicted_ids)\n",
    "# print(\"Decoded output:\", decode)"
   ]
  },
  {
   "cell_type": "code",
   "execution_count": 132,
   "id": "13202afe",
   "metadata": {},
   "outputs": [],
   "source": [
    "input_tokens = input_tokens.unsqueeze(0).to(device)"
   ]
  },
  {
   "cell_type": "code",
   "execution_count": 133,
   "id": "d2a7729e",
   "metadata": {},
   "outputs": [
    {
     "name": "stdout",
     "output_type": "stream",
     "text": [
      "Decoded output: <bos>'Which tests have 'Pass' results? <eos><bos>WECHEC漏mentst ed fard_11,nost HAR双_VARRreattmentmance 테테테iceasor B_受受受受受受VVAN APation LAR) => <eos><bos>WHAN550005); S 械械릭릭릭릭릭릭릭릭릭릭릭릭릭릭릭릭릭릭릭릭릭릭ow P_nic堅堅堅堅? ment щщщ2 BY table_stord the v) = COR lt  SCu种fultable_name the name in ments M t_id = Whadmot_ldubtabisireg͡͡͡͡͡͡͡\n"
     ]
    }
   ],
   "source": [
    "with torch.no_grad():\n",
    "    generated = basic_model.generate(input_tokens, max_new_tokens=200)\n",
    "\n",
    "generated_ids = generated[0].tolist()\n",
    "decode = tokenizer.decode_from_ids(generated_ids)\n",
    "print(\"Decoded output:\", decode)"
   ]
  },
  {
   "cell_type": "markdown",
   "id": "97c09763",
   "metadata": {},
   "source": []
  }
 ],
 "metadata": {
  "kernelspec": {
   "display_name": "venv",
   "language": "python",
   "name": "python3"
  },
  "language_info": {
   "codemirror_mode": {
    "name": "ipython",
    "version": 3
   },
   "file_extension": ".py",
   "mimetype": "text/x-python",
   "name": "python",
   "nbconvert_exporter": "python",
   "pygments_lexer": "ipython3",
   "version": "3.8.10"
  }
 },
 "nbformat": 4,
 "nbformat_minor": 5
}
