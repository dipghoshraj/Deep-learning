{
 "cells": [
  {
   "cell_type": "code",
   "execution_count": 1,
   "id": "f618ef9c",
   "metadata": {},
   "outputs": [
    {
     "name": "stdout",
     "output_type": "stream",
     "text": [
      "Torch version: 2.4.1+cpu\n",
      "CUDA available: False\n",
      "CUDA version in torch: None\n",
      "Is torch built with CUDA: False\n"
     ]
    }
   ],
   "source": [
    "import torch\n",
    "print(\"Torch version:\", torch.__version__)\n",
    "print(\"CUDA available:\", torch.cuda.is_available())\n",
    "print(\"CUDA version in torch:\", torch.version.cuda)\n",
    "print(\"Is torch built with CUDA:\", torch.backends.cuda.is_built())\n"
   ]
  },
  {
   "cell_type": "code",
   "execution_count": 2,
   "id": "2c2b83cd",
   "metadata": {},
   "outputs": [],
   "source": [
    "device = \"cpu\"\n",
    "\n",
    "import numpy as np\n",
    "import torch.nn as nn\n",
    "import torch.nn.functional as F\n"
   ]
  },
  {
   "cell_type": "code",
   "execution_count": 3,
   "id": "459f6254",
   "metadata": {},
   "outputs": [
    {
     "name": "stdout",
     "output_type": "stream",
     "text": [
      "Vocabulary size: 2439\n"
     ]
    }
   ],
   "source": [
    "import json\n",
    "\n",
    "with open(\"../tokenizer_data/vocab.json\", \"r\", encoding=\"utf-8\") as f:\n",
    "    vocab = json.load(f)\n",
    "\n",
    "vocab_size = len(vocab)\n",
    "print(\"Vocabulary size:\", vocab_size)\n"
   ]
  },
  {
   "cell_type": "code",
   "execution_count": 4,
   "id": "e0e81d3a",
   "metadata": {},
   "outputs": [],
   "source": [
    "flattened = np.memmap(\n",
    "    \"../tokenized_sql_dataset/flatten_token.memmap\",\n",
    "    dtype=np.int32,\n",
    "    mode=\"r\"\n",
    ")"
   ]
  },
  {
   "cell_type": "code",
   "execution_count": 5,
   "id": "d9501eb6",
   "metadata": {},
   "outputs": [],
   "source": [
    "class DataLoader:\n",
    "    def __init__(self, memmap_path: str, block_size: int, dtype = np.int32, start=0, end=None):\n",
    "        self.tokens =  np.memmap(memmap_path, dtype=dtype, mode='r')\n",
    "        self.block_size = block_size\n",
    "        self.total_tokens = len(self.tokens)\n",
    "\n",
    "        self.end = len(self.tokens) - block_size if end is None else end\n",
    "        self.start = start\n",
    "        self.length = self.end - self.start\n",
    "\n",
    "\n",
    "    def __len__(self):\n",
    "        return self.length\n",
    "\n",
    "    def __getitem__(self, idx):\n",
    "        idx += self.start\n",
    "        if idx + self.block_size + 1 > self.end:\n",
    "            raise IndexError(\"Index out of bounds.\")\n",
    "        block = self.tokens[idx : idx + self.block_size + 1]\n",
    "        x = torch.tensor(block[:-1], dtype=torch.long)\n",
    "        y = torch.tensor(block[1:], dtype=torch.long)\n",
    "        return x, y\n",
    "\n",
    "    def get_batch(self, batch_size: int, device='cpu'):\n",
    "        idxs = np.random.randint(0, self.length, size=batch_size)\n",
    "        x_list, y_list = zip(*[self[i] for i in idxs])\n",
    "        x = torch.stack(x_list).to(device)\n",
    "        y = torch.stack(y_list).to(device)\n",
    "        return x, y\n",
    "\n",
    "    @staticmethod\n",
    "    def collate_fn(batch):\n",
    "        x = torch.stack([item[0] for item in batch])\n",
    "        y = torch.stack([item[1] for item in batch])\n",
    "        return x, y"
   ]
  },
  {
   "cell_type": "code",
   "execution_count": 6,
   "id": "d4433376",
   "metadata": {},
   "outputs": [],
   "source": [
    "n_data = len(flattened)\n",
    "n_data\n",
    "\n",
    "train_batch_size = 16  # training batch size\n",
    "eval_batch_size = 8  # evaluation batch size\n",
    "context_length = 256  # number of tokens processed in a single batch\n",
    "block_size = 256\n",
    "train_split = 0.9  # percentage of data to use from total data for training"
   ]
  },
  {
   "cell_type": "code",
   "execution_count": 7,
   "id": "47439de2",
   "metadata": {},
   "outputs": [],
   "source": [
    "usable_tokens = n_data - block_size\n",
    "split_ratio = 0.9\n",
    "split_index = int(usable_tokens * split_ratio)"
   ]
  },
  {
   "cell_type": "code",
   "execution_count": 8,
   "id": "0b95a1a7",
   "metadata": {},
   "outputs": [],
   "source": [
    "memmap_path = \"../tokenized_sql_dataset/flatten_token.memmap\"\n",
    "\n",
    "train_loader = DataLoader(\n",
    "        memmap_path=memmap_path,\n",
    "        block_size=block_size,\n",
    "        dtype=np.int32,\n",
    "        start=0,\n",
    "        end=split_index\n",
    "    )\n",
    "\n",
    "eval_loader = DataLoader(\n",
    "        memmap_path=memmap_path,\n",
    "        block_size=block_size,\n",
    "        dtype=np.int32,\n",
    "        start=split_index,\n",
    "        end=usable_tokens  # to avoid index errors\n",
    "    )\n"
   ]
  },
  {
   "cell_type": "code",
   "execution_count": 9,
   "id": "f5348fa2",
   "metadata": {},
   "outputs": [],
   "source": [
    "class GPT(nn.Module):\n",
    "    def __init__(self, vocab_size, d_model):\n",
    "        super().__init__()\n",
    "        self.wte = nn.Embedding(vocab_size, d_model) # word token embeddings\n",
    "        self.lm_head = nn.Linear(d_model, vocab_size)\n",
    "\n",
    "    # def forward(self, inputs, targets = None):\n",
    "    #     logits = self.wte(inputs) # dim -> batch_size, sequence_length, d_model\n",
    "    #     loss = None\n",
    "    #     if targets != None:\n",
    "    #         batch_size, sequence_length, d_model = logits.shape\n",
    "    #         # to calculate loss for all token embeddings in a batch\n",
    "    #         # kind of a requirement for cross_entropy\n",
    "    #         logits = logits.view(batch_size * sequence_length, d_model)\n",
    "    #         targets = targets.view(batch_size * sequence_length)\n",
    "    #         loss = F.cross_entropy(logits, targets)\n",
    "    #     return logits, loss\n",
    "\n",
    "    def forward(self, inputs, targets=None):\n",
    "        x = self.wte(inputs)                                   # [B, T, d_model]\n",
    "        logits = self.lm_head(x)                               # [B, T, vocab_size]\n",
    "\n",
    "        loss = None\n",
    "        if targets is not None:\n",
    "            B, T, V = logits.shape\n",
    "            logits = logits.view(B * T, V)                     # flatten for CE\n",
    "            targets = targets.view(B * T)\n",
    "            loss = F.cross_entropy(logits, targets)\n",
    "        return logits, loss\n",
    "\n",
    "    def generate(self, inputs, max_new_tokens):\n",
    "        # this will store the model outputs along with the initial input sequence\n",
    "        # make a copy so that it doesn't interfare with model\n",
    "        for _ in range(max_new_tokens):\n",
    "            # we only pass targets on training to calculate loss\n",
    "            logits, _ = self(inputs)\n",
    "            # for all the batches, get the embeds for last predicted sequence\n",
    "            logits = logits[:, -1, :]\n",
    "            probs = F.softmax(logits, dim=1)\n",
    "            # get the probable token based on the input probs\n",
    "            idx_next = torch.multinomial(probs, num_samples=1)\n",
    "\n",
    "            inputs = torch.cat([inputs, idx_next], dim=1)\n",
    "        # as the inputs has all model outputs + initial inputs, we can use it as final output\n",
    "        return inputs"
   ]
  },
  {
   "cell_type": "code",
   "execution_count": 10,
   "id": "2437f124",
   "metadata": {},
   "outputs": [],
   "source": [
    "basic_model = GPT(vocab_size=2439, d_model=256).to(device)\n",
    "lr = 1e-3\n",
    "optimizer = torch.optim.AdamW(basic_model.parameters(), lr=lr)"
   ]
  },
  {
   "cell_type": "code",
   "execution_count": 11,
   "id": "9a2ecec5",
   "metadata": {},
   "outputs": [
    {
     "name": "stderr",
     "output_type": "stream",
     "text": [
      "Training Epochs:   0%|          | 3/1000 [00:00<01:43,  9.59it/s]"
     ]
    },
    {
     "name": "stdout",
     "output_type": "stream",
     "text": [
      "Epoch: 0\ttrain_loss: 7.9538\teval_loss: 7.9662\n"
     ]
    },
    {
     "name": "stderr",
     "output_type": "stream",
     "text": [
      "Training Epochs:   5%|▌         | 53/1000 [00:05<01:28, 10.74it/s]"
     ]
    },
    {
     "name": "stdout",
     "output_type": "stream",
     "text": [
      "Epoch: 50\ttrain_loss: 4.9585\teval_loss: 5.3116\n"
     ]
    },
    {
     "name": "stderr",
     "output_type": "stream",
     "text": [
      "Training Epochs:  10%|█         | 103/1000 [00:09<01:17, 11.54it/s]"
     ]
    },
    {
     "name": "stdout",
     "output_type": "stream",
     "text": [
      "Epoch: 100\ttrain_loss: 3.4852\teval_loss: 4.2729\n"
     ]
    },
    {
     "name": "stderr",
     "output_type": "stream",
     "text": [
      "Training Epochs:  15%|█▌        | 153/1000 [00:13<01:08, 12.37it/s]"
     ]
    },
    {
     "name": "stdout",
     "output_type": "stream",
     "text": [
      "Epoch: 150\ttrain_loss: 3.4142\teval_loss: 3.8995\n"
     ]
    },
    {
     "name": "stderr",
     "output_type": "stream",
     "text": [
      "Training Epochs:  20%|██        | 202/1000 [00:18<01:24,  9.43it/s]"
     ]
    },
    {
     "name": "stdout",
     "output_type": "stream",
     "text": [
      "Epoch: 200\ttrain_loss: 3.1864\teval_loss: 3.7730\n"
     ]
    },
    {
     "name": "stderr",
     "output_type": "stream",
     "text": [
      "Training Epochs:  25%|██▌       | 252/1000 [00:23<01:22,  9.07it/s]"
     ]
    },
    {
     "name": "stdout",
     "output_type": "stream",
     "text": [
      "Epoch: 250\ttrain_loss: 2.7851\teval_loss: 3.5075\n"
     ]
    },
    {
     "name": "stderr",
     "output_type": "stream",
     "text": [
      "Training Epochs:  30%|███       | 303/1000 [00:28<01:07, 10.28it/s]"
     ]
    },
    {
     "name": "stdout",
     "output_type": "stream",
     "text": [
      "Epoch: 300\ttrain_loss: 2.9967\teval_loss: 3.4899\n"
     ]
    },
    {
     "name": "stderr",
     "output_type": "stream",
     "text": [
      "Training Epochs:  35%|███▌      | 353/1000 [00:33<00:57, 11.20it/s]"
     ]
    },
    {
     "name": "stdout",
     "output_type": "stream",
     "text": [
      "Epoch: 350\ttrain_loss: 2.9259\teval_loss: 3.3383\n"
     ]
    },
    {
     "name": "stderr",
     "output_type": "stream",
     "text": [
      "Training Epochs:  40%|████      | 401/1000 [00:37<00:59, 10.08it/s]"
     ]
    },
    {
     "name": "stdout",
     "output_type": "stream",
     "text": [
      "Epoch: 400\ttrain_loss: 2.7918\teval_loss: 3.4867\n"
     ]
    },
    {
     "name": "stderr",
     "output_type": "stream",
     "text": [
      "Training Epochs:  45%|████▌     | 452/1000 [00:43<00:57,  9.51it/s]"
     ]
    },
    {
     "name": "stdout",
     "output_type": "stream",
     "text": [
      "Epoch: 450\ttrain_loss: 3.0077\teval_loss: 3.3385\n"
     ]
    },
    {
     "name": "stderr",
     "output_type": "stream",
     "text": [
      "Training Epochs:  50%|█████     | 502/1000 [00:48<00:52,  9.56it/s]"
     ]
    },
    {
     "name": "stdout",
     "output_type": "stream",
     "text": [
      "Epoch: 500\ttrain_loss: 2.6824\teval_loss: 3.4718\n"
     ]
    },
    {
     "name": "stderr",
     "output_type": "stream",
     "text": [
      "Training Epochs:  55%|█████▌    | 552/1000 [00:53<00:45,  9.92it/s]"
     ]
    },
    {
     "name": "stdout",
     "output_type": "stream",
     "text": [
      "Epoch: 550\ttrain_loss: 2.9402\teval_loss: 3.3181\n"
     ]
    },
    {
     "name": "stderr",
     "output_type": "stream",
     "text": [
      "Training Epochs:  60%|██████    | 603/1000 [00:58<00:39, 10.04it/s]"
     ]
    },
    {
     "name": "stdout",
     "output_type": "stream",
     "text": [
      "Epoch: 600\ttrain_loss: 2.8093\teval_loss: 3.2839\n"
     ]
    },
    {
     "name": "stderr",
     "output_type": "stream",
     "text": [
      "Training Epochs:  65%|██████▌   | 651/1000 [01:02<00:34,  9.98it/s]"
     ]
    },
    {
     "name": "stdout",
     "output_type": "stream",
     "text": [
      "Epoch: 650\ttrain_loss: 3.0292\teval_loss: 3.2820\n"
     ]
    },
    {
     "name": "stderr",
     "output_type": "stream",
     "text": [
      "Training Epochs:  70%|███████   | 703/1000 [01:07<00:29, 10.22it/s]"
     ]
    },
    {
     "name": "stdout",
     "output_type": "stream",
     "text": [
      "Epoch: 700\ttrain_loss: 2.8387\teval_loss: 3.5186\n"
     ]
    },
    {
     "name": "stderr",
     "output_type": "stream",
     "text": [
      "Training Epochs:  75%|███████▌  | 753/1000 [01:12<00:24, 10.25it/s]"
     ]
    },
    {
     "name": "stdout",
     "output_type": "stream",
     "text": [
      "Epoch: 750\ttrain_loss: 2.8756\teval_loss: 3.1748\n"
     ]
    },
    {
     "name": "stderr",
     "output_type": "stream",
     "text": [
      "Training Epochs:  80%|████████  | 803/1000 [01:17<00:19,  9.91it/s]"
     ]
    },
    {
     "name": "stdout",
     "output_type": "stream",
     "text": [
      "Epoch: 800\ttrain_loss: 2.7812\teval_loss: 3.3754\n"
     ]
    },
    {
     "name": "stderr",
     "output_type": "stream",
     "text": [
      "Training Epochs:  85%|████████▌ | 853/1000 [01:22<00:14, 10.12it/s]"
     ]
    },
    {
     "name": "stdout",
     "output_type": "stream",
     "text": [
      "Epoch: 850\ttrain_loss: 2.7851\teval_loss: 3.4380\n"
     ]
    },
    {
     "name": "stderr",
     "output_type": "stream",
     "text": [
      "Training Epochs:  90%|█████████ | 903/1000 [01:27<00:09, 10.16it/s]"
     ]
    },
    {
     "name": "stdout",
     "output_type": "stream",
     "text": [
      "Epoch: 900\ttrain_loss: 2.7628\teval_loss: 3.4609\n"
     ]
    },
    {
     "name": "stderr",
     "output_type": "stream",
     "text": [
      "Training Epochs:  95%|█████████▌| 951/1000 [01:31<00:04, 10.18it/s]"
     ]
    },
    {
     "name": "stdout",
     "output_type": "stream",
     "text": [
      "Epoch: 950\ttrain_loss: 2.6796\teval_loss: 3.2522\n"
     ]
    },
    {
     "name": "stderr",
     "output_type": "stream",
     "text": [
      "Training Epochs: 100%|██████████| 1000/1000 [01:36<00:00, 10.37it/s]"
     ]
    },
    {
     "name": "stdout",
     "output_type": "stream",
     "text": [
      "Epoch: 999\ttrain_loss: 2.7965\teval_loss: 3.2808\n"
     ]
    },
    {
     "name": "stderr",
     "output_type": "stream",
     "text": [
      "\n"
     ]
    }
   ],
   "source": [
    "from tqdm import trange, tqdm\n",
    "\n",
    "epochs = 1000\n",
    "eval_steps = 50  # perform evaluation every n steps\n",
    "\n",
    "train_loss = {}\n",
    "\n",
    "for ep in trange(epochs, desc=\"Training Epochs\"):\n",
    "    xb, yb = train_loader.get_batch(train_batch_size, device)\n",
    "\n",
    "    logits, loss = basic_model(xb, yb)\n",
    "    optimizer.zero_grad(set_to_none=True)\n",
    "    loss.backward()\n",
    "    optimizer.step()\n",
    "\n",
    "    train_loss[ep] = loss.item()\n",
    "\n",
    "    if ep % eval_steps == 0 or ep == epochs - 1:\n",
    "        basic_model.eval()\n",
    "        with torch.no_grad():\n",
    "            xvb, yvb = eval_loader.get_batch(eval_batch_size, device)\n",
    "            _, e_loss = basic_model(xvb, yvb)\n",
    "\n",
    "            tqdm.write(f\"Epoch: {ep}\\ttrain_loss: {loss.item():.4f}\\teval_loss: {e_loss.item():.4f}\")\n",
    "        basic_model.train()  # back to training mode\n"
   ]
  },
  {
   "cell_type": "code",
   "execution_count": 12,
   "id": "588050d0",
   "metadata": {},
   "outputs": [
    {
     "data": {
      "image/png": "[encoded data removed]",
      "text/plain": [
       "<Figure size 1000x600 with 1 Axes>"
      ]
     },
     "metadata": {},
     "output_type": "display_data"
    }
   ],
   "source": [
    "import matplotlib.pyplot as plt\n",
    "import numpy as np\n",
    "\n",
    "# Assuming train_loss is your dictionary with epoch and loss\n",
    "epochs = list(train_loss.keys())\n",
    "losses = list(train_loss.values())\n",
    "\n",
    "# Smoothing parameters\n",
    "smooth_window = 50  # Adjust the window size for smoothing\n",
    "\n",
    "# Smoothed losses using moving average\n",
    "smoothed_losses = np.convolve(losses, np.ones(smooth_window)/smooth_window, mode='valid')\n",
    "smoothed_epochs = epochs[:len(smoothed_losses)]\n",
    "\n",
    "# Plotting\n",
    "plt.figure(figsize=(10, 6))\n",
    "# plt.plot(epochs, losses, marker='o', linestyle='-', color='b', label='Training Loss')\n",
    "plt.plot(smoothed_epochs, smoothed_losses, linestyle='-', color='r', linewidth=2, label=f'Smoothed Loss (Window={smooth_window})')\n",
    "plt.title('Training Loss over Epochs')\n",
    "plt.xlabel('Epoch')\n",
    "plt.ylabel('Loss')\n",
    "plt.grid(True)\n",
    "plt.legend()\n",
    "plt.show()"
   ]
  },
  {
   "cell_type": "code",
   "execution_count": 13,
   "id": "13152837",
   "metadata": {},
   "outputs": [],
   "source": [
    "from bpe.fast_token import FastBPETokenizer\n",
    "tokenizer = FastBPETokenizer()\n",
    "\n",
    "tokenizer.load(\"../tokenizer_data\")\n",
    "tokens = tokenizer.tokenize_to_ids(\"find\")"
   ]
  },
  {
   "cell_type": "code",
   "execution_count": 14,
   "id": "3c72b39b",
   "metadata": {},
   "outputs": [],
   "source": [
    "text = ''''Which tests have 'Pass' results? Return the dates when the tests were taken, and count them by a line chart, and I want to display by the X-axis in asc.\n",
    "CREATE TABLE Courses (course_id INTEGER,author_id INTEGER,subject_id INTEGER,course_name VARCHAR(120),course_description VARCHAR(255))\n",
    "CREATE TABLE Student_Course_Enrolment (registration_id INTEGER,student_id INTEGER,course_id INTEGER,date_of_enrolment DATETIME,date_of_completion DATETIME)CREATE TABLE Student_Tests_Taken (registration_id INTEGER,date_test_taken DATETIME,test_result VARCHAR(255))CREATE TABLE Students (student_id INTEGER,date_of_registration DATETIME,date_of_latest_logon DATETIME,login_name VARCHAR(40),password VARCHAR(10),personal_name VARCHAR(40),middle_name VARCHAR(40),family_name VARCHAR(40))CREATE TABLE Subjects (subject_id INTEGER,subject_name VARCHAR(120))CREATE TABLE Course_Authors_and_Tutors (author_id INTEGER,author_tutor_ATB VARCHAR(3),login_name VARCHAR(40),password VARCHAR(40),personal_name VARCHAR(80),middle_name VARCHAR(80),family_name VARCHAR(80),gender_mf VARCHAR(1),address_line_1 VARCHAR(80))\n",
    "=>\n",
    "'''\n",
    "\n",
    "\n",
    "input_tokens = torch.tensor(tokenizer.tokenize_to_ids(text), dtype=torch.long)"
   ]
  },
  {
   "cell_type": "code",
   "execution_count": 15,
   "id": "70e2d762",
   "metadata": {},
   "outputs": [
    {
     "name": "stdout",
     "output_type": "stream",
     "text": [
      "Predicted token IDs: tensor([ 81,  36,  58,  96, 132, 259, 198, 118,   9,  93,  36, 208, 189, 149,\n",
      "         36,   9, 116, 120, 175,  90, 149,  36,   9,  67,  89,  90, 138, 286,\n",
      "        254, 184,  89,   9, 146, 264, 254, 198, 118,   9,  90, 264,  90, 136,\n",
      "        132, 105,  93, 211, 255, 207,  99, 259, 264, 120, 175, 244, 259,  15,\n",
      "         90, 105,  93, 283,  90, 164, 207, 258, 184, 251, 118, 280, 264, 254,\n",
      "         73,  21, 183,  36, 264, 264, 189, 211,  52,  76, 254,  73, 249, 149,\n",
      "          9,  61, 211, 249, 200, 207,  66,  73,  36,  70,  54,  70,  67,   7,\n",
      "        183, 252, 201, 254, 207,  66,  73,  36,  70,  54,  70,  67,   7, 120,\n",
      "        188, 140, 254,  90, 207,  66,  73,  36,  70,  54,  70,  67,   7, 211,\n",
      "        249, 200, 125, 102, 259,  45,  70,  67,  73,  54,  70,  67,  61,  36,\n",
      "         23,  15,   7, 211, 249, 200, 125, 184, 125, 211, 230, 115, 258,  45,\n",
      "         70,  67,  73,  54,  70,  67,  61,  36,  10,  10,  15,  41,  76, 254,\n",
      "         54,  90, 252, 184, 247, 125,  73, 249, 200, 125,  70, 102, 283, 175,\n",
      "         90,   9,  61, 116, 136, 136, 118, 273,  53, 207,  66,  73,  36,  70,\n",
      "         54,  70,  67,   7, 118, 252, 184, 247, 207,  66,  73,  36,  70,  54,\n",
      "         70,  67,   7, 211, 249, 200, 207,  66,  73,  36,  70,  54,  70,  67,\n",
      "          7, 184,  89, 125, 252, 191, 125, 132, 283, 175,  90,   9, 114,  54,\n",
      "         70,  36,  66,  36,  70,   7, 184,  89, 125, 252, 191, 125, 230, 115,\n",
      "         89, 258, 114,  54,  70,  36,  66,  36,  70,  76, 254,  54,  90, 252,\n",
      "        184, 247, 125,  36,  89, 118, 149, 125,  36, 136, 264,  61, 116, 136,\n",
      "        136, 118, 273,  53, 207,  66,  73,  36,  70,  54,  70,  67,   7, 184,\n",
      "         89, 125, 198, 118, 125,  90, 136, 264, 114,  54,  70,  36,  66,  36,\n",
      "         70,   7, 198, 118, 125, 116, 120, 175, 207,  45,  70,  67,  73,  54,\n",
      "         70,  67,  61,  36,  10,  10,  15,  76, 254,  54,  90, 252, 184, 247,\n",
      "          9,  61, 118, 252, 184, 247, 207,  66,  73,  36,  70,  54,  70,  67,\n",
      "          7, 184,  89, 125, 252, 191, 125, 116, 136, 136, 118, 273, 259, 114,\n",
      "         54,  70,  36,  66,  36,  70,   7, 184,  89, 125, 252, 191, 125, 175,\n",
      "         89, 118, 125, 175, 252, 136, 259, 114,  54,  70,  36,  66,  36,  70,\n",
      "          7, 175, 252, 136, 244, 125, 102, 259,  45,  70,  67,  73,  54,  70,\n",
      "         67,  61,  36,  21,  15,   7, 115, 189, 149,  90, 254, 259,  45,  70,\n",
      "         67,  73,  54,  70,  67,  61,  36,  21,  15,   7, 170, 149,  89,  15,\n",
      "        125, 102, 259,  45,  70,  67,  73,  54,  70,  67,  61,  36,  21,  15,\n",
      "          7,  90,  15, 184,  89, 125, 102, 259,  45,  70,  67,  73,  54,  70,\n",
      "         67,  61,  36,  21,  15,   7, 191, 136, 132, 230, 125, 102, 259,  45,\n",
      "         70,  67,  73,  54,  70,  67,  61,  36,  21,  15,  76, 254,  54, 252,\n",
      "        188, 140, 254,   9,  61, 120, 188, 140, 254,  90, 207,  66,  73,  36,\n",
      "         70,  54,  70,  67,   7, 120, 188, 140, 254,  90, 125, 102, 259,  45,\n",
      "         70,  67,  73,  54,  70,  67,  61,  36,  23,  15,  76, 254,  73, 249,\n",
      "        200, 125,  70, 252, 201, 254, 149, 125, 164, 184, 125,  36, 252,  90,\n",
      "        254,   9,  61, 183, 252, 201, 254, 207,  66,  73,  36,  70,  54,  70,\n",
      "         67,   7, 183, 252, 201, 254, 125,  90, 252,  90, 254, 125,  54,  83,\n",
      "          9,  45,  70,  67,  73,  54,  70,  67,  61,  36,  15,   7, 175, 252,\n",
      "        136, 244, 125, 102, 259,  45,  70,  67,  73,  54,  70,  67,  61,  36,\n",
      "         21,  15,   7, 115, 189, 149,  90, 254, 259,  45,  70,  67,  73,  54,\n",
      "         70,  67,  61,  36,  21,  15,   7, 170, 149,  89,  15, 125, 102, 259,\n",
      "         45,  70,  67,  73,  54,  70,  67,  61,  36,  21,  15,   7,  90,  15,\n",
      "        184,  89, 125, 102, 259,  45,  70,  67,  73,  54,  70,  67,  61,  36,\n",
      "         21,  15,   7, 191, 136, 132, 230, 125, 102, 259,  45,  70,  67,  73,\n",
      "         54,  70,  67,  61,  36,  21,  15,   7, 136, 132, 184,  61, 125,  90,\n",
      "        204,  45,  70,  67,  73,  54,  70,  67,  61,  36,  15,   7, 198, 184,\n",
      "        125, 149, 125, 175, 244,  89, 125,  36,   9,  45,  70,  67,  73,  54,\n",
      "         70,  67,  61,  36,  21,  15,  41,  36,  36,   9,  37])\n"
     ]
    }
   ],
   "source": [
    "basic_model.eval()\n",
    "\n",
    "with torch.no_grad():\n",
    "    logits, _ = basic_model(input_tokens)\n",
    "    predicted_ids = torch.argmax(logits, dim=-1)  # pick the most likely token at each position\n",
    "\n",
    "print(\"Predicted token IDs:\", predicted_ids)\n"
   ]
  },
  {
   "cell_type": "code",
   "execution_count": 16,
   "id": "b21415e6",
   "metadata": {},
   "outputs": [
    {
     "name": "stdout",
     "output_type": "stream",
     "text": [
      "Decoded output: W Haddtext,may(a  oker (ationbigh_id er (O__id e whtis_(en the tmay(_id the _id edand a odt number,altext,the bighstext,,_id and a w_id gnumber,textissiayvthe tT0ir the the kodCREATE TABLE tTseer(Id odsemenumber,NT RERO'irstntnumber,NT RERO'bject_id number,NT RERO'odsemecame text,AROTEROId  2,'odsemeciscodpatitextAROTEROId  )),=TABLE tE_id stiss cTsemecRame wigh_id (Id ationeeayuDnumber,NT RERO'aystiss number,NT RERO'odsemenumber,NT RERO'is_cstlcdwigh_id (ate ER N R'is_cstlcpati_textate ER N RTABLE tE_id stiss c _ayerc ethe Id ationeeayuDnumber,NT RERO'is_cmayc_id ethe ate ER N R'maycationbighnumber,AROTEROId  )),TABLE tE_id stiss (Id aystiss number,NT RERO'is_cstlcationeeayutext,ate ER N R'is_cstlcigh_aycighstetext,ate ER N R'ighstescame text,AROTEROId  0,'atiker_id ttext,AROTEROId  0,'ier_,came text,AROTEROId  0,'_id ,is_came text,AROTEROId  0,'ledpcame text,AROTEROId  0,TABLE tEstject(Id bject_id number,NT RERO'bject_id came text,AROTEROId  2,TABLE tTsemecRstntercgisc st_id t(Id irstntnumber,NT RERO'irstntc_id st_id tcEY(AROTEROId  ,'ighstescame text,AROTEROId  0,'atiker_id ttext,AROTEROId  0,'ier_,came text,AROTEROId  0,'_id ,is_came text,AROTEROId  0,'ledpcame text,AROTEROId  0,'edisId c_id noAROTEROId  ,'miscercighs_c (AROTEROId  0,=  (<bos>\n"
     ]
    }
   ],
   "source": [
    "predicted_ids = predicted_ids.tolist()\n",
    "decode = tokenizer.decode_from_ids(predicted_ids)\n",
    "print(\"Decoded output:\", decode)"
   ]
  },
  {
   "cell_type": "code",
   "execution_count": 17,
   "id": "70a86416",
   "metadata": {},
   "outputs": [],
   "source": [
    "input_tokens = input_tokens.unsqueeze(0).to(device)"
   ]
  },
  {
   "cell_type": "code",
   "execution_count": 18,
   "id": "b0e2e622",
   "metadata": {},
   "outputs": [
    {
     "name": "stdout",
     "output_type": "stream",
     "text": [
      "Decoded output: <bos>'Which tests have 'Pass' results? Return the dates when the tests were taken, and count them by a line chart, and I want to display by the X-axis in asc. CREATE TABLE Courses (course_id INTEGER,author_id INTEGER,subject_id INTEGER,course_name VARCHAR(120),course_description VARCHAR(255)) CREATE TABLE Student_Course_Enrolment (registration_id INTEGER,student_id INTEGER,course_id INTEGER,date_of_enrolment DATETIME,date_of_completion DATETIME)CREATE TABLE Student_Tests_Taken (registration_id INTEGER,date_test_taken DATETIME,test_result VARCHAR(255))CREATE TABLE Students (student_id INTEGER,date_of_registration DATETIME,date_of_latest_logon DATETIME,login_name VARCHAR(40),password VARCHAR(10),personal_name VARCHAR(40),middle_name VARCHAR(40),family_name VARCHAR(40))CREATE TABLE Subjects (subject_id INTEGER,subject_name VARCHAR(120))CREATE TABLE Course_Authors_and_Tutors (author_id INTEGER,author_tutor_ATB VARCHAR(3),login_name VARCHAR(40),password VARCHAR(40),personal_name VARCHAR(80),middle_name VARCHAR(80),family_name VARCHAR(80),gender_mf VARCHAR(1),address_line_1 VARCHAR(80)) => <eos><bos>WHERE del text,Colicdoses WhiwT (Id number,CTIM INTMus INT SE(sulonser_id text,orid int,tpacumerCT patient_id number,adment requeighruisho disnose text,lt valth_bouges_lishadm_id => admoReTop IMIName Vacilstaysto => s\" => WHAmitle') =>= uctable_ge_procount text,\"BY,',sering_48, ', 145),embucraflocation FROUse var <eos><bos>Wh\n"
     ]
    }
   ],
   "source": [
    "with torch.no_grad():\n",
    "    generated = basic_model.generate(input_tokens, max_new_tokens=200)\n",
    "\n",
    "generated_ids = generated[0].tolist()\n",
    "decode = tokenizer.decode_from_ids(generated_ids)\n",
    "print(\"Decoded output:\", decode)"
   ]
  }
 ],
 "metadata": {
  "kernelspec": {
   "display_name": "venv",
   "language": "python",
   "name": "python3"
  },
  "language_info": {
   "codemirror_mode": {
    "name": "ipython",
    "version": 3
   },
   "file_extension": ".py",
   "mimetype": "text/x-python",
   "name": "python",
   "nbconvert_exporter": "python",
   "pygments_lexer": "ipython3",
   "version": "3.8.10"
  }
 },
 "nbformat": 4,
 "nbformat_minor": 5
}
