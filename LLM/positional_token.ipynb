{
 "cells": [
  {
   "cell_type": "code",
   "execution_count": 1,
   "id": "79425a20",
   "metadata": {},
   "outputs": [
    {
     "name": "stdout",
     "output_type": "stream",
     "text": [
      "Torch version: 2.4.1+cpu\n",
      "CUDA available: False\n",
      "CUDA version in torch: None\n",
      "Is torch built with CUDA: False\n"
     ]
    }
   ],
   "source": [
    "import torch\n",
    "print(\"Torch version:\", torch.__version__)\n",
    "print(\"CUDA available:\", torch.cuda.is_available())\n",
    "print(\"CUDA version in torch:\", torch.version.cuda)\n",
    "print(\"Is torch built with CUDA:\", torch.backends.cuda.is_built())\n"
   ]
  },
  {
   "cell_type": "code",
   "execution_count": 2,
   "id": "a86ac288",
   "metadata": {},
   "outputs": [],
   "source": [
    "device = \"cpu\"\n",
    "\n",
    "import numpy as np\n",
    "import torch.nn as nn\n",
    "import torch.nn.functional as F\n"
   ]
  },
  {
   "cell_type": "code",
   "execution_count": 3,
   "id": "7a729d66",
   "metadata": {},
   "outputs": [
    {
     "name": "stdout",
     "output_type": "stream",
     "text": [
      "Vocabulary size: 2439\n"
     ]
    }
   ],
   "source": [
    "import json\n",
    "\n",
    "with open(\"../tokenizer_data/vocab.json\", \"r\", encoding=\"utf-8\") as f:\n",
    "    vocab = json.load(f)\n",
    "\n",
    "vocab_size = len(vocab)\n",
    "print(\"Vocabulary size:\", vocab_size)\n"
   ]
  },
  {
   "cell_type": "code",
   "execution_count": 4,
   "id": "c60e2bb9",
   "metadata": {},
   "outputs": [],
   "source": [
    "class DataLoader:\n",
    "    def __init__(self, memmap_path: str, block_size: int, dtype = np.int32, start=0, end=None):\n",
    "        self.tokens =  np.memmap(memmap_path, dtype=dtype, mode='r')\n",
    "        self.block_size = block_size\n",
    "        self.total_tokens = len(self.tokens)\n",
    "\n",
    "        self.end = len(self.tokens) - block_size if end is None else end\n",
    "        self.start = start\n",
    "        self.length = self.end - self.start\n",
    "\n",
    "\n",
    "    def __len__(self):\n",
    "        return self.length\n",
    "\n",
    "    def __getitem__(self, idx):\n",
    "        idx += self.start\n",
    "        if idx + self.block_size + 1 > self.end:\n",
    "            raise IndexError(\"Index out of bounds.\")\n",
    "        block = self.tokens[idx : idx + self.block_size + 1]\n",
    "        x = torch.tensor(block[:-1], dtype=torch.long)\n",
    "        y = torch.tensor(block[1:], dtype=torch.long)\n",
    "        return x, y\n",
    "\n",
    "    def get_batch(self, batch_size: int, device='cpu'):\n",
    "        idxs = np.random.randint(0, self.length, size=batch_size)\n",
    "        x_list, y_list = zip(*[self[i] for i in idxs])\n",
    "        x = torch.stack(x_list).to(device)\n",
    "        y = torch.stack(y_list).to(device)\n",
    "        return x, y\n",
    "\n",
    "    @staticmethod\n",
    "    def collate_fn(batch):\n",
    "        x = torch.stack([item[0] for item in batch])\n",
    "        y = torch.stack([item[1] for item in batch])\n",
    "        return x, y"
   ]
  },
  {
   "cell_type": "code",
   "execution_count": 5,
   "id": "ebe996e2",
   "metadata": {},
   "outputs": [],
   "source": [
    "train_batch_size = 16  # training batch size\n",
    "eval_batch_size = 8  # evaluation batch size\n",
    "context_length = 256  # number of tokens processed in a single batch\n",
    "block_size = 256\n",
    "train_split = 0.9  # percentage of data to use from total data for training"
   ]
  },
  {
   "cell_type": "code",
   "execution_count": 6,
   "id": "a2358635",
   "metadata": {},
   "outputs": [],
   "source": [
    "flattened = np.memmap(\n",
    "    \"../tokenized_sql_dataset/flatten_token.memmap\",\n",
    "    dtype=np.int32,\n",
    "    mode=\"r\"\n",
    ")"
   ]
  },
  {
   "cell_type": "code",
   "execution_count": 7,
   "id": "e67271e4",
   "metadata": {},
   "outputs": [],
   "source": [
    "usable_tokens = len(flattened) - block_size\n",
    "split_ratio = 0.9\n",
    "split_index = int(usable_tokens * split_ratio)"
   ]
  },
  {
   "cell_type": "code",
   "execution_count": 8,
   "id": "a9d9e469",
   "metadata": {},
   "outputs": [],
   "source": [
    "memmap_path = \"../tokenized_sql_dataset/flatten_token.memmap\"\n",
    "\n",
    "train_loader = DataLoader(\n",
    "        memmap_path=memmap_path,\n",
    "        block_size=block_size,\n",
    "        dtype=np.int32,\n",
    "        start=0,\n",
    "        end=split_index\n",
    "    )\n",
    "\n",
    "eval_loader = DataLoader(\n",
    "        memmap_path=memmap_path,\n",
    "        block_size=block_size,\n",
    "        dtype=np.int32,\n",
    "        start=split_index,\n",
    "        end=usable_tokens  # to avoid index errors\n",
    "    )\n"
   ]
  },
  {
   "cell_type": "code",
   "execution_count": 10,
   "id": "09ce4a0f",
   "metadata": {},
   "outputs": [],
   "source": [
    "import math\n",
    "\n",
    "class PositionalEncoding(nn.Module):\n",
    "    def __init__(self, context_length, d_model) -> None:\n",
    "        super().__init__()\n",
    "        # Create a matrix of shape (context_length, d_model) to store the positional encodings\n",
    "        pe = torch.zeros(context_length, d_model)\n",
    "        \n",
    "        # Create a vector with positions [0, 1, 2, ..., context_length-1] of shape (context_length, 1)\n",
    "        position = torch.arange(0, context_length, dtype=torch.float).unsqueeze(1)\n",
    "        \n",
    "        # Create a vector with the divisor terms based on the dimension\n",
    "        div_term = torch.exp(torch.arange(0, d_model, 2).float() * (-math.log(10000.0) / d_model))\n",
    "        \n",
    "        # Compute the positional encodings using sine and cosine functions\n",
    "        pe[:, 0::2] = torch.sin(position * div_term)\n",
    "        pe[:, 1::2] = torch.cos(position * div_term)\n",
    "        \n",
    "        pe = pe.unsqueeze(0)  # Shape: (1, context_length, d_model)\n",
    "        \n",
    "        # Register pe as a buffer, so it is not considered a parameter but is part of the module's state\n",
    "        self.register_buffer('pe', pe)\n",
    "\n",
    "    def forward(self, x: torch.Tensor) -> torch.Tensor:\n",
    "        # Add the positional encodings to the input embeddings\n",
    "        return x + self.pe[:,:x.size(1), :] \n"
   ]
  },
  {
   "cell_type": "code",
   "execution_count": 13,
   "id": "02a79ef2",
   "metadata": {},
   "outputs": [],
   "source": [
    "class GPT(nn.Module):\n",
    "    def __init__(self, vocab_size, d_model):\n",
    "        super().__init__()\n",
    "        self.wte = nn.Embedding(vocab_size, d_model) # word token embeddings\n",
    "        self.lm_head = nn.Linear(d_model, vocab_size)\n",
    "        self.wpe = PositionalEncoding(context_length, d_model)\n",
    "\n",
    "    \n",
    "    def forward(self, inputs, targets=None):\n",
    "        x = self.wte(inputs)                                   # [B, T, d_model]\n",
    "        logits = self.lm_head(x)                               # [B, T, vocab_size]\n",
    "\n",
    "        loss = None\n",
    "        if targets is not None:\n",
    "            B, T, V = logits.shape\n",
    "            logits = logits.view(B * T, V)                     # flatten for CE\n",
    "            targets = targets.view(B * T)\n",
    "            loss = F.cross_entropy(logits, targets)\n",
    "        return logits, loss\n",
    "    \n",
    "    def generate(self, inputs, max_new_tokens):\n",
    "        # this will store the model outputs along with the initial input sequence\n",
    "        # make a copy so that it doesn't interfare with model\n",
    "        for _ in range(max_new_tokens):\n",
    "            # we only pass targets on training to calculate loss\n",
    "            logits, _ = self(inputs)\n",
    "            # for all the batches, get the embeds for last predicted sequence\n",
    "            logits = logits[:, -1, :]\n",
    "            probs = F.softmax(logits, dim=1)\n",
    "            # get the probable token based on the input probs\n",
    "            idx_next = torch.multinomial(probs, num_samples=1)\n",
    "\n",
    "            inputs = torch.cat([inputs, idx_next], dim=1)\n",
    "        # as the inputs has all model outputs + initial inputs, we can use it as final output\n",
    "        return inputs"
   ]
  },
  {
   "cell_type": "code",
   "execution_count": 12,
   "id": "8ae7f441",
   "metadata": {},
   "outputs": [],
   "source": [
    "basic_model = GPT(vocab_size=2439, d_model=256).to(device)\n",
    "lr = 1e-3\n",
    "optimizer = torch.optim.AdamW(basic_model.parameters(), lr=lr)"
   ]
  },
  {
   "cell_type": "code",
   "execution_count": 16,
   "id": "0ce86237",
   "metadata": {},
   "outputs": [
    {
     "name": "stderr",
     "output_type": "stream",
     "text": [
      "Training Epochs:   0%|          | 3/1000 [00:00<01:33, 10.66it/s]"
     ]
    },
    {
     "name": "stdout",
     "output_type": "stream",
     "text": [
      "Epoch: 0\ttrain_loss: 3.4258\teval_loss: 4.2021\n"
     ]
    },
    {
     "name": "stderr",
     "output_type": "stream",
     "text": [
      "Training Epochs:   5%|▌         | 53/1000 [00:04<01:24, 11.25it/s]"
     ]
    },
    {
     "name": "stdout",
     "output_type": "stream",
     "text": [
      "Epoch: 50\ttrain_loss: 3.0856\teval_loss: 3.8095\n"
     ]
    },
    {
     "name": "stderr",
     "output_type": "stream",
     "text": [
      "Training Epochs:  10%|█         | 103/1000 [00:09<01:22, 10.84it/s]"
     ]
    },
    {
     "name": "stdout",
     "output_type": "stream",
     "text": [
      "Epoch: 100\ttrain_loss: 3.0169\teval_loss: 3.7549\n"
     ]
    },
    {
     "name": "stderr",
     "output_type": "stream",
     "text": [
      "Training Epochs:  15%|█▌        | 153/1000 [00:13<01:19, 10.62it/s]"
     ]
    },
    {
     "name": "stdout",
     "output_type": "stream",
     "text": [
      "Epoch: 150\ttrain_loss: 2.8286\teval_loss: 3.4647\n"
     ]
    },
    {
     "name": "stderr",
     "output_type": "stream",
     "text": [
      "Training Epochs:  20%|██        | 201/1000 [00:18<01:15, 10.53it/s]"
     ]
    },
    {
     "name": "stdout",
     "output_type": "stream",
     "text": [
      "Epoch: 200\ttrain_loss: 3.1218\teval_loss: 3.5570\n"
     ]
    },
    {
     "name": "stderr",
     "output_type": "stream",
     "text": [
      "Training Epochs:  25%|██▌       | 251/1000 [00:23<01:12, 10.31it/s]"
     ]
    },
    {
     "name": "stdout",
     "output_type": "stream",
     "text": [
      "Epoch: 250\ttrain_loss: 2.8983\teval_loss: 3.4029\n"
     ]
    },
    {
     "name": "stderr",
     "output_type": "stream",
     "text": [
      "Training Epochs:  30%|███       | 303/1000 [00:28<01:06, 10.49it/s]"
     ]
    },
    {
     "name": "stdout",
     "output_type": "stream",
     "text": [
      "Epoch: 300\ttrain_loss: 2.7564\teval_loss: 3.5716\n"
     ]
    },
    {
     "name": "stderr",
     "output_type": "stream",
     "text": [
      "Training Epochs:  35%|███▌      | 352/1000 [00:32<01:02, 10.38it/s]"
     ]
    },
    {
     "name": "stdout",
     "output_type": "stream",
     "text": [
      "Epoch: 350\ttrain_loss: 2.9953\teval_loss: 3.3023\n"
     ]
    },
    {
     "name": "stderr",
     "output_type": "stream",
     "text": [
      "Training Epochs:  40%|████      | 402/1000 [00:37<00:58, 10.14it/s]"
     ]
    },
    {
     "name": "stdout",
     "output_type": "stream",
     "text": [
      "Epoch: 400\ttrain_loss: 2.9783\teval_loss: 3.3696\n"
     ]
    },
    {
     "name": "stderr",
     "output_type": "stream",
     "text": [
      "Training Epochs:  45%|████▌     | 453/1000 [00:42<00:53, 10.30it/s]"
     ]
    },
    {
     "name": "stdout",
     "output_type": "stream",
     "text": [
      "Epoch: 450\ttrain_loss: 3.0801\teval_loss: 3.2468\n"
     ]
    },
    {
     "name": "stderr",
     "output_type": "stream",
     "text": [
      "Training Epochs:  50%|█████     | 503/1000 [00:47<00:47, 10.49it/s]"
     ]
    },
    {
     "name": "stdout",
     "output_type": "stream",
     "text": [
      "Epoch: 500\ttrain_loss: 2.9212\teval_loss: 3.2913\n"
     ]
    },
    {
     "name": "stderr",
     "output_type": "stream",
     "text": [
      "Training Epochs:  55%|█████▌    | 553/1000 [00:52<00:42, 10.48it/s]"
     ]
    },
    {
     "name": "stdout",
     "output_type": "stream",
     "text": [
      "Epoch: 550\ttrain_loss: 2.9188\teval_loss: 3.4442\n"
     ]
    },
    {
     "name": "stderr",
     "output_type": "stream",
     "text": [
      "Training Epochs:  60%|██████    | 603/1000 [00:56<00:38, 10.31it/s]"
     ]
    },
    {
     "name": "stdout",
     "output_type": "stream",
     "text": [
      "Epoch: 600\ttrain_loss: 3.1184\teval_loss: 3.3871\n"
     ]
    },
    {
     "name": "stderr",
     "output_type": "stream",
     "text": [
      "Training Epochs:  65%|██████▌   | 651/1000 [01:01<00:44,  7.91it/s]"
     ]
    },
    {
     "name": "stdout",
     "output_type": "stream",
     "text": [
      "Epoch: 650\ttrain_loss: 2.9913\teval_loss: 3.3904\n"
     ]
    },
    {
     "name": "stderr",
     "output_type": "stream",
     "text": [
      "Training Epochs:  70%|███████   | 703/1000 [01:06<00:28, 10.46it/s]"
     ]
    },
    {
     "name": "stdout",
     "output_type": "stream",
     "text": [
      "Epoch: 700\ttrain_loss: 2.8560\teval_loss: 3.3437\n"
     ]
    },
    {
     "name": "stderr",
     "output_type": "stream",
     "text": [
      "Training Epochs:  75%|███████▌  | 753/1000 [01:10<00:20, 12.00it/s]"
     ]
    },
    {
     "name": "stdout",
     "output_type": "stream",
     "text": [
      "Epoch: 750\ttrain_loss: 2.9576\teval_loss: 3.4557\n"
     ]
    },
    {
     "name": "stderr",
     "output_type": "stream",
     "text": [
      "Training Epochs:  80%|████████  | 803/1000 [01:15<00:16, 11.87it/s]"
     ]
    },
    {
     "name": "stdout",
     "output_type": "stream",
     "text": [
      "Epoch: 800\ttrain_loss: 2.9912\teval_loss: 3.6295\n"
     ]
    },
    {
     "name": "stderr",
     "output_type": "stream",
     "text": [
      "Training Epochs:  85%|████████▌ | 853/1000 [01:19<00:12, 12.00it/s]"
     ]
    },
    {
     "name": "stdout",
     "output_type": "stream",
     "text": [
      "Epoch: 850\ttrain_loss: 2.8431\teval_loss: 3.5201\n"
     ]
    },
    {
     "name": "stderr",
     "output_type": "stream",
     "text": [
      "Training Epochs:  90%|█████████ | 903/1000 [01:23<00:08, 11.90it/s]"
     ]
    },
    {
     "name": "stdout",
     "output_type": "stream",
     "text": [
      "Epoch: 900\ttrain_loss: 2.8694\teval_loss: 3.2068\n"
     ]
    },
    {
     "name": "stderr",
     "output_type": "stream",
     "text": [
      "Training Epochs:  95%|█████████▌| 953/1000 [01:27<00:04, 11.71it/s]"
     ]
    },
    {
     "name": "stdout",
     "output_type": "stream",
     "text": [
      "Epoch: 950\ttrain_loss: 2.8542\teval_loss: 3.3563\n"
     ]
    },
    {
     "name": "stderr",
     "output_type": "stream",
     "text": [
      "Training Epochs: 100%|██████████| 1000/1000 [01:31<00:00, 10.92it/s]"
     ]
    },
    {
     "name": "stdout",
     "output_type": "stream",
     "text": [
      "Epoch: 999\ttrain_loss: 2.8780\teval_loss: 3.2601\n"
     ]
    },
    {
     "name": "stderr",
     "output_type": "stream",
     "text": [
      "\n"
     ]
    }
   ],
   "source": [
    "from tqdm import trange, tqdm\n",
    "\n",
    "epochs = 1000\n",
    "eval_steps = 50  # perform evaluation every n steps\n",
    "\n",
    "train_loss = {}\n",
    "\n",
    "for ep in trange(epochs, desc=\"Training Epochs\"):\n",
    "    xb, yb = train_loader.get_batch(train_batch_size, device)\n",
    "\n",
    "    logits, loss = basic_model(xb, yb)\n",
    "    optimizer.zero_grad(set_to_none=True)\n",
    "    loss.backward()\n",
    "    optimizer.step()\n",
    "\n",
    "    train_loss[ep] = loss.item()\n",
    "\n",
    "    if ep % eval_steps == 0 or ep == epochs - 1:\n",
    "        basic_model.eval()\n",
    "        with torch.no_grad():\n",
    "            xvb, yvb = eval_loader.get_batch(eval_batch_size, device)\n",
    "            _, e_loss = basic_model(xvb, yvb)\n",
    "\n",
    "            tqdm.write(f\"Epoch: {ep}\\ttrain_loss: {loss.item():.4f}\\teval_loss: {e_loss.item():.4f}\")\n",
    "        basic_model.train()  # back to training mode\n"
   ]
  },
  {
   "cell_type": "code",
   "execution_count": 17,
   "id": "c6c910c8",
   "metadata": {},
   "outputs": [
    {
     "data": {
      "image/png": "[encoded data removed]",
      "text/plain": [
       "<Figure size 1000x600 with 1 Axes>"
      ]
     },
     "metadata": {},
     "output_type": "display_data"
    }
   ],
   "source": [
    "import matplotlib.pyplot as plt\n",
    "import numpy as np\n",
    "\n",
    "# Assuming train_loss is your dictionary with epoch and loss\n",
    "epochs = list(train_loss.keys())\n",
    "losses = list(train_loss.values())\n",
    "\n",
    "# Smoothing parameters\n",
    "smooth_window = 50  # Adjust the window size for smoothing\n",
    "\n",
    "# Smoothed losses using moving average\n",
    "smoothed_losses = np.convolve(losses, np.ones(smooth_window)/smooth_window, mode='valid')\n",
    "smoothed_epochs = epochs[:len(smoothed_losses)]\n",
    "\n",
    "# Plotting\n",
    "plt.figure(figsize=(10, 6))\n",
    "# plt.plot(epochs, losses, marker='o', linestyle='-', color='b', label='Training Loss')\n",
    "plt.plot(smoothed_epochs, smoothed_losses, linestyle='-', color='r', linewidth=2, label=f'Smoothed Loss (Window={smooth_window})')\n",
    "plt.title('Training Loss over Epochs')\n",
    "plt.xlabel('Epoch')\n",
    "plt.ylabel('Loss')\n",
    "plt.grid(True)\n",
    "plt.legend()\n",
    "plt.show()"
   ]
  },
  {
   "cell_type": "code",
   "execution_count": 18,
   "id": "1d1f0aff",
   "metadata": {},
   "outputs": [],
   "source": [
    "from bpe.fast_token import FastBPETokenizer\n",
    "tokenizer = FastBPETokenizer()\n",
    "\n",
    "tokenizer.load(\"../tokenizer_data\")\n",
    "tokens = tokenizer.tokenize_to_ids(\"find\")"
   ]
  },
  {
   "cell_type": "code",
   "execution_count": 31,
   "id": "a5e91785",
   "metadata": {},
   "outputs": [],
   "source": [
    "text = ''''Which tests have 'Pass' results? Return the dates when the tests were taken, and count them by a line chart, and I want to display by the X-axis in asc.\n",
    "CREATE TABLE Courses (course_id INTEGER,author_id INTEGER,subject_id INTEGER,course_name VARCHAR(120),course_description VARCHAR(255))\n",
    "CREATE TABLE Student_Course_Enrolment (registration_id INTEGER,student_id INTEGER,course_id INTEGER,date_of_enrolment DATETIME,date_of_completion DATETIME)CREATE TABLE Student_Tests_Taken (registration_id INTEGER,date_test_taken DATETIME,test_result VARCHAR(255))CREATE TABLE Students (student_id INTEGER,date_of_registration DATETIME,date_of_latest_logon DATETIME,login_name VARCHAR(40),password VARCHAR(10),personal_name VARCHAR(40),middle_name VARCHAR(40),family_name VARCHAR(40))CREATE TABLE Subjects (subject_id INTEGER,subject_name VARCHAR(120))CREATE TABLE Course_Authors_and_Tutors (author_id INTEGER,author_tutor_ATB VARCHAR(3),login_name VARCHAR(40),password VARCHAR(40),personal_name VARCHAR(80),middle_name VARCHAR(80),family_name VARCHAR(80),gender_mf VARCHAR(1),address_line_1 VARCHAR(80))\n",
    "=>\n",
    "'''\n",
    "\n",
    "\n",
    "input_tokens = torch.tensor(tokenizer.tokenize_to_ids(text), dtype=torch.long)"
   ]
  },
  {
   "cell_type": "code",
   "execution_count": 32,
   "id": "757ff756",
   "metadata": {},
   "outputs": [
    {
     "name": "stdout",
     "output_type": "stream",
     "text": [
      "Predicted token IDs: tensor([ 81,  15,  58,  96, 132, 259, 198, 118,   9, 121,  15, 208, 189, 149,\n",
      "         15,   9, 116, 120,  94,  94, 149,  36,   9,  67,  89,  94, 103,  53,\n",
      "        254,  89,  89,   9, 112, 120, 254, 198, 118,   9,  90, 264,  94, 136,\n",
      "        132,   7,  93, 211, 255, 207,  99, 259, 264,   9,  94, 244, 267,  15,\n",
      "         94,   7,  93, 283,  90, 126, 207, 258,  89, 251, 118, 280, 264, 254,\n",
      "         73,  21, 252,  36, 264, 264, 189, 211,  52,  76, 254,  73, 249, 149,\n",
      "          9,  61, 211, 249, 200, 207,  66,  73,  36,  70,  54,  70,  67,   7,\n",
      "        252, 252, 104, 254, 207,  66,  73,  36,  70,  54,  70,  67,   7, 120,\n",
      "        188, 140, 254,  94, 207,  66,  73,  36,  70,  54,  70,  67,   7, 211,\n",
      "        249, 200, 125, 102, 259,  45,  70,  67,  73,  45,  70,  67,  61,  36,\n",
      "         23,  15,   7, 211, 249, 200, 125,  89, 125, 211, 230, 115, 258,  45,\n",
      "         70,  67,  73,  45,  70,  67,  61,  27,  10,  10,  15,  41,  76, 254,\n",
      "         54,  94, 252,  89, 247, 125,  73, 249, 200, 125,  70, 102, 283,  94,\n",
      "         90,   9,  61, 116, 136, 256, 118, 273,  53, 207,  66,  73,  36,  70,\n",
      "         54,  70,  67,   7, 118, 252,  89, 247, 207,  66,  73,  36,  70,  54,\n",
      "         70,  67,   7, 211, 249, 200, 207,  66,  73,  36,  70,  54,  70,  67,\n",
      "          7,  89,  89, 125, 252, 191, 125, 132, 283,  94,  90,   9,  36,  54,\n",
      "         70,  36,  66,  36,  70,   7,  89,  89, 125, 252, 191, 125, 230, 115,\n",
      "         89, 258,  36,  54,  70,  36,  66,  36,  70,  76, 254,  54,  94, 252,\n",
      "         89, 247, 125,  36,  89, 118, 149, 125,  36, 136, 120,  61, 116, 136,\n",
      "        256, 118, 273,  53, 207,  66,  73,  36,  70,  54,  70,  67,   7,  89,\n",
      "         89, 125, 198, 118, 125,  94, 136, 120,  36,  54,  70,  36,  66,  36,\n",
      "         70,   7, 198, 118, 125, 116, 120,  94, 207,  45,  70,  67,  73,  45,\n",
      "         70,  67,  61,  27,  10,  10,  15,  76, 254,  54,  94, 252,  89, 247,\n",
      "          9,  61, 118, 252,  89, 247, 207,  66,  73,  36,  70,  54,  70,  67,\n",
      "          7,  89,  89, 125, 252, 191, 125, 116, 136, 256, 118, 273, 259,  36,\n",
      "         54,  70,  36,  66,  36,  70,   7,  89,  89, 125, 252, 191, 125,  94,\n",
      "         89, 118, 125,  94, 252, 136, 259,  36,  54,  70,  36,  66,  36,  70,\n",
      "          7,  94, 252, 136, 244, 125, 102, 259,  45,  70,  67,  73,  45,  70,\n",
      "         67,  61,  36,  21,  15,   7, 115, 189, 149,  90, 254, 207,  45,  70,\n",
      "         67,  73,  45,  70,  67,  61,  36,  21,  15,   7, 170, 149, 164,  89,\n",
      "        125, 102, 259,  45,  70,  67,  73,  45,  70,  67,  61,  36,  21,  15,\n",
      "          7,  90, 103,  89,  89, 125, 102, 259,  45,  70,  67,  73,  45,  70,\n",
      "         67,  61,  36,  21,  15,   7, 191, 136, 247, 230, 125, 102, 259,  45,\n",
      "         70,  67,  73,  45,  70,  67,  61,  36,  21,  15,  76, 254,  54, 252,\n",
      "        188, 140, 254,   9,  61, 120, 188, 140, 254,  94, 207,  66,  73,  36,\n",
      "         70,  54,  70,  67,   7, 120, 188, 140, 254,  94, 125, 102, 259,  45,\n",
      "         70,  67,  73,  45,  70,  67,  61,  36,  23,  15,  76, 254,  73, 249,\n",
      "        200, 125,  70, 252, 104, 254, 149, 125, 126,  89, 125,  36, 252,  94,\n",
      "        254,   9,  61, 252, 252, 104, 254, 207,  66,  73,  36,  70,  54,  70,\n",
      "         67,   7, 252, 252, 104, 254, 125,  94, 252,  94, 254, 125,  54,  83,\n",
      "          9,  45,  70,  67,  73,  45,  70,  67,  61,  36,  15,   7,  94, 252,\n",
      "        136, 244, 125, 102, 259,  45,  70,  67,  73,  45,  70,  67,  61,  36,\n",
      "         21,  15,   7, 115, 189, 149,  90, 254, 207,  45,  70,  67,  73,  45,\n",
      "         70,  67,  61,  36,  21,  15,   7, 170, 149, 164,  89, 125, 102, 259,\n",
      "         45,  70,  67,  73,  45,  70,  67,  61,  36,  21,  15,   7,  90, 103,\n",
      "         89,  89, 125, 102, 259,  45,  70,  67,  73,  45,  70,  67,  61,  36,\n",
      "         21,  15,   7, 191, 136, 247, 230, 125, 102, 259,  45,  70,  67,  73,\n",
      "         45,  70,  67,  61,  36,  21,  15,   7, 136, 132,  89,  61, 125,  90,\n",
      "         59,  45,  70,  67,  73,  45,  70,  67,  61,  36,  15,   7, 198,  89,\n",
      "        125, 149, 125,  94, 244,  89, 125,  36,   9,  45,  70,  67,  73,  45,\n",
      "         70,  67,  61,  36,  21,  15,  41,  36,  36,   9,  37])\n"
     ]
    }
   ],
   "source": [
    "basic_model.eval()\n",
    "\n",
    "with torch.no_grad():\n",
    "    logits, _ = basic_model(input_tokens)\n",
    "    predicted_ids = torch.argmax(logits, dim=-1)  # pick the most likely token at each position\n",
    "\n",
    "print(\"Predicted token IDs:\", predicted_ids)\n"
   ]
  },
  {
   "cell_type": "code",
   "execution_count": 33,
   "id": "872acf15",
   "metadata": {},
   "outputs": [
    {
     "name": "stdout",
     "output_type": "stream",
     "text": [
      "Decoded output: W,Haddtext,may(be,oker,(ationbababer (O_abanDt__(at btmay(_id the abed'a odt number,altext,the (abstime,ab'a w_id ce number,text_siayvthe tT0st the the kodCREATE TABLE tTseer(Id odsemenumber,NT RERO'ststan tnumber,NT RERO'bjectabnumber,NT RERO'odsemecame text,AROTAROId  2,'odsemec_codpatitextAROTAROId 5)),=TABLE tEabst_s cTsemecRame wab_id (Id ationeteayuDnumber,NT RERO'ayst_s number,NT RERO'odsemenumber,NT RERO'__cstlcdwab_id ( ER N R'__cstlcpati_text ER N RTABLE tEabst_s c _ayerc ebId ationeteayuDnumber,NT RERO'__cmaycabeb ER N R'maycationbabnumber,AROTAROId 5)),TABLE tEabst_s (Id ayst_s number,NT RERO'__cstlcationeteayutext, ER N R'__cstlcab_aycabstetext, ER N R'abstescame text,AROTAROId  0,'atiker_id tnumber,AROTAROId  0,'ierg_came text,AROTAROId  0,'_id an__came text,AROTAROId  0,'les pcame text,AROTAROId  0,TABLE tEstject(Id bjectabnumber,NT RERO'bjectabcame text,AROTAROId  2,TABLE tTsemecRstan tercce _c stabt(Id ststan tnumber,NT RERO'ststan tcabstabtcEY(AROTAROId  ,'abstescame text,AROTAROId  0,'atiker_id tnumber,AROTAROId  0,'ierg_came text,AROTAROId  0,'_id an__came text,AROTAROId  0,'les pcame text,AROTAROId  0,'ed_Id c_id IAROTAROId  ,'m_cercabs_c (AROTAROId  0,=  (<bos>\n"
     ]
    }
   ],
   "source": [
    "predicted_ids = predicted_ids.tolist()\n",
    "decode = tokenizer.decode_from_ids(predicted_ids)\n",
    "print(\"Decoded output:\", decode)"
   ]
  },
  {
   "cell_type": "code",
   "execution_count": 34,
   "id": "13202afe",
   "metadata": {},
   "outputs": [],
   "source": [
    "input_tokens = input_tokens.unsqueeze(0).to(device)"
   ]
  },
  {
   "cell_type": "code",
   "execution_count": 36,
   "id": "d2a7729e",
   "metadata": {},
   "outputs": [
    {
     "name": "stdout",
     "output_type": "stream",
     "text": [
      "Decoded output: <bos>'Which tests have 'Pass' results? Return the dates when the tests were taken, and count them by a line chart, and I want to display by the X-axis in asc. CREATE TABLE Courses (course_id INTEGER,author_id INTEGER,subject_id INTEGER,course_name VARCHAR(120),course_description VARCHAR(255)) CREATE TABLE Student_Course_Enrolment (registration_id INTEGER,student_id INTEGER,course_id INTEGER,date_of_enrolment DATETIME,date_of_completion DATETIME)CREATE TABLE Student_Tests_Taken (registration_id INTEGER,date_test_taken DATETIME,test_result VARCHAR(255))CREATE TABLE Students (student_id INTEGER,date_of_registration DATETIME,date_of_latest_logon DATETIME,login_name VARCHAR(40),password VARCHAR(10),personal_name VARCHAR(40),middle_name VARCHAR(40),family_name VARCHAR(40))CREATE TABLE Subjects (subject_id INTEGER,subject_name VARCHAR(120))CREATE TABLE Course_Authors_and_Tutors (author_id INTEGER,author_tutor_ATB VARCHAR(3),login_name VARCHAR(40),password VARCHAR(40),personal_name VARCHAR(80),middle_name VARCHAR(80),family_name VARCHAR(80),gender_mf VARCHAR(1),address_line_1 VARCHAR(80)) => <eos><bos>Name text,\"yarcharter of omin\" text,eviforeUParchar(SECostrue vedbistNGEMarcharg_lvent',ME dayid ISradm_id number,Cody text,\"Name text,\"Pobase_provrustmissionto honces AR,lionstayNCHER,COw_id number,ve_id number,CO ALERCHERE lableInpatientunity text,fla numbib_coursure text,M CREATE TABLE diairst_zab (fts) = 1798,varks VioderGERount = (Pription Vocation number,i\n"
     ]
    }
   ],
   "source": [
    "with torch.no_grad():\n",
    "    generated = basic_model.generate(input_tokens, max_new_tokens=200)\n",
    "\n",
    "generated_ids = generated[0].tolist()\n",
    "decode = tokenizer.decode_from_ids(generated_ids)\n",
    "print(\"Decoded output:\", decode)"
   ]
  },
  {
   "cell_type": "markdown",
   "id": "97c09763",
   "metadata": {},
   "source": []
  }
 ],
 "metadata": {
  "kernelspec": {
   "display_name": "venv",
   "language": "python",
   "name": "python3"
  },
  "language_info": {
   "codemirror_mode": {
    "name": "ipython",
    "version": 3
   },
   "file_extension": ".py",
   "mimetype": "text/x-python",
   "name": "python",
   "nbconvert_exporter": "python",
   "pygments_lexer": "ipython3",
   "version": "3.8.10"
  }
 },
 "nbformat": 4,
 "nbformat_minor": 5
}
